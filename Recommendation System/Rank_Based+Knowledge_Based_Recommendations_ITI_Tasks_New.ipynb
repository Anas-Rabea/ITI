{
  "cells": [
    {
      "cell_type": "markdown",
      "metadata": {
        "id": "CQEU3U2IjDeo"
      },
      "source": [
        "### Recommendations Rank & Knowledge Based: \n"
      ]
    },
    {
      "cell_type": "code",
      "execution_count": null,
      "metadata": {
        "id": "x9GvqX3KjDe6"
      },
      "outputs": [],
      "source": [
        "import numpy as np\n",
        "import pandas as pd\n",
        "import matplotlib.pyplot as plt\n",
        "\n",
        "%matplotlib inline\n",
        "\n",
        "# Read in the datasets\n",
        "movies = pd.read_csv('/content/drive/MyDrive/colab_drive/ITI Task 1 New/movies_clean.csv')\n",
        "reviews = pd.read_csv('/content/drive/MyDrive/colab_drive/ITI Task 1 New/reviews_clean.csv')\n",
        "del movies['Unnamed: 0']\n",
        "del reviews['Unnamed: 0']"
      ]
    },
    {
      "cell_type": "code",
      "source": [
        "from google.colab import drive\n",
        "drive.mount('/content/drive')"
      ],
      "metadata": {
        "colab": {
          "base_uri": "https://localhost:8080/"
        },
        "id": "dBeLkTw-4bHu",
        "outputId": "af8f2232-1d25-4333-d8aa-2ffc7fc42223"
      },
      "execution_count": null,
      "outputs": [
        {
          "output_type": "stream",
          "name": "stdout",
          "text": [
            "Mounted at /content/drive\n"
          ]
        }
      ]
    },
    {
      "cell_type": "code",
      "execution_count": null,
      "metadata": {
        "colab": {
          "base_uri": "https://localhost:8080/",
          "height": 473
        },
        "id": "wgV-pfXJjDe_",
        "outputId": "8bb4dcea-38a3-47d4-ea78-842eadc511d1"
      },
      "outputs": [
        {
          "output_type": "execute_result",
          "data": {
            "text/plain": [
              "   user_id  movie_id  rating   timestamp                 date  month_1  \\\n",
              "0        1     68646      10  1381620027  2013-10-12 23:20:27        0   \n",
              "1        1    113277      10  1379466669  2013-09-18 01:11:09        0   \n",
              "2        2    422720       8  1412178746  2014-10-01 15:52:26        0   \n",
              "3        2    454876       8  1394818630  2014-03-14 17:37:10        0   \n",
              "4        2    790636       7  1389963947  2014-01-17 13:05:47        0   \n",
              "\n",
              "   month_2  month_3  month_4  month_5  ...  month_9  month_10  month_11  \\\n",
              "0        0        0        0        0  ...        0         1         0   \n",
              "1        0        0        0        0  ...        0         0         0   \n",
              "2        0        0        0        0  ...        0         1         0   \n",
              "3        0        0        0        0  ...        0         0         0   \n",
              "4        0        0        0        0  ...        0         0         0   \n",
              "\n",
              "   month_12  year_2013  year_2014  year_2015  year_2016  year_2017  year_2018  \n",
              "0         0          1          0          0          0          0          0  \n",
              "1         0          1          0          0          0          0          0  \n",
              "2         0          0          1          0          0          0          0  \n",
              "3         0          0          1          0          0          0          0  \n",
              "4         0          0          1          0          0          0          0  \n",
              "\n",
              "[5 rows x 23 columns]"
            ],
            "text/html": [
              "\n",
              "  <div id=\"df-2342cae9-3e8a-4ff0-ab90-bafaa6bc646d\">\n",
              "    <div class=\"colab-df-container\">\n",
              "      <div>\n",
              "<style scoped>\n",
              "    .dataframe tbody tr th:only-of-type {\n",
              "        vertical-align: middle;\n",
              "    }\n",
              "\n",
              "    .dataframe tbody tr th {\n",
              "        vertical-align: top;\n",
              "    }\n",
              "\n",
              "    .dataframe thead th {\n",
              "        text-align: right;\n",
              "    }\n",
              "</style>\n",
              "<table border=\"1\" class=\"dataframe\">\n",
              "  <thead>\n",
              "    <tr style=\"text-align: right;\">\n",
              "      <th></th>\n",
              "      <th>user_id</th>\n",
              "      <th>movie_id</th>\n",
              "      <th>rating</th>\n",
              "      <th>timestamp</th>\n",
              "      <th>date</th>\n",
              "      <th>month_1</th>\n",
              "      <th>month_2</th>\n",
              "      <th>month_3</th>\n",
              "      <th>month_4</th>\n",
              "      <th>month_5</th>\n",
              "      <th>...</th>\n",
              "      <th>month_9</th>\n",
              "      <th>month_10</th>\n",
              "      <th>month_11</th>\n",
              "      <th>month_12</th>\n",
              "      <th>year_2013</th>\n",
              "      <th>year_2014</th>\n",
              "      <th>year_2015</th>\n",
              "      <th>year_2016</th>\n",
              "      <th>year_2017</th>\n",
              "      <th>year_2018</th>\n",
              "    </tr>\n",
              "  </thead>\n",
              "  <tbody>\n",
              "    <tr>\n",
              "      <th>0</th>\n",
              "      <td>1</td>\n",
              "      <td>68646</td>\n",
              "      <td>10</td>\n",
              "      <td>1381620027</td>\n",
              "      <td>2013-10-12 23:20:27</td>\n",
              "      <td>0</td>\n",
              "      <td>0</td>\n",
              "      <td>0</td>\n",
              "      <td>0</td>\n",
              "      <td>0</td>\n",
              "      <td>...</td>\n",
              "      <td>0</td>\n",
              "      <td>1</td>\n",
              "      <td>0</td>\n",
              "      <td>0</td>\n",
              "      <td>1</td>\n",
              "      <td>0</td>\n",
              "      <td>0</td>\n",
              "      <td>0</td>\n",
              "      <td>0</td>\n",
              "      <td>0</td>\n",
              "    </tr>\n",
              "    <tr>\n",
              "      <th>1</th>\n",
              "      <td>1</td>\n",
              "      <td>113277</td>\n",
              "      <td>10</td>\n",
              "      <td>1379466669</td>\n",
              "      <td>2013-09-18 01:11:09</td>\n",
              "      <td>0</td>\n",
              "      <td>0</td>\n",
              "      <td>0</td>\n",
              "      <td>0</td>\n",
              "      <td>0</td>\n",
              "      <td>...</td>\n",
              "      <td>0</td>\n",
              "      <td>0</td>\n",
              "      <td>0</td>\n",
              "      <td>0</td>\n",
              "      <td>1</td>\n",
              "      <td>0</td>\n",
              "      <td>0</td>\n",
              "      <td>0</td>\n",
              "      <td>0</td>\n",
              "      <td>0</td>\n",
              "    </tr>\n",
              "    <tr>\n",
              "      <th>2</th>\n",
              "      <td>2</td>\n",
              "      <td>422720</td>\n",
              "      <td>8</td>\n",
              "      <td>1412178746</td>\n",
              "      <td>2014-10-01 15:52:26</td>\n",
              "      <td>0</td>\n",
              "      <td>0</td>\n",
              "      <td>0</td>\n",
              "      <td>0</td>\n",
              "      <td>0</td>\n",
              "      <td>...</td>\n",
              "      <td>0</td>\n",
              "      <td>1</td>\n",
              "      <td>0</td>\n",
              "      <td>0</td>\n",
              "      <td>0</td>\n",
              "      <td>1</td>\n",
              "      <td>0</td>\n",
              "      <td>0</td>\n",
              "      <td>0</td>\n",
              "      <td>0</td>\n",
              "    </tr>\n",
              "    <tr>\n",
              "      <th>3</th>\n",
              "      <td>2</td>\n",
              "      <td>454876</td>\n",
              "      <td>8</td>\n",
              "      <td>1394818630</td>\n",
              "      <td>2014-03-14 17:37:10</td>\n",
              "      <td>0</td>\n",
              "      <td>0</td>\n",
              "      <td>0</td>\n",
              "      <td>0</td>\n",
              "      <td>0</td>\n",
              "      <td>...</td>\n",
              "      <td>0</td>\n",
              "      <td>0</td>\n",
              "      <td>0</td>\n",
              "      <td>0</td>\n",
              "      <td>0</td>\n",
              "      <td>1</td>\n",
              "      <td>0</td>\n",
              "      <td>0</td>\n",
              "      <td>0</td>\n",
              "      <td>0</td>\n",
              "    </tr>\n",
              "    <tr>\n",
              "      <th>4</th>\n",
              "      <td>2</td>\n",
              "      <td>790636</td>\n",
              "      <td>7</td>\n",
              "      <td>1389963947</td>\n",
              "      <td>2014-01-17 13:05:47</td>\n",
              "      <td>0</td>\n",
              "      <td>0</td>\n",
              "      <td>0</td>\n",
              "      <td>0</td>\n",
              "      <td>0</td>\n",
              "      <td>...</td>\n",
              "      <td>0</td>\n",
              "      <td>0</td>\n",
              "      <td>0</td>\n",
              "      <td>0</td>\n",
              "      <td>0</td>\n",
              "      <td>1</td>\n",
              "      <td>0</td>\n",
              "      <td>0</td>\n",
              "      <td>0</td>\n",
              "      <td>0</td>\n",
              "    </tr>\n",
              "  </tbody>\n",
              "</table>\n",
              "<p>5 rows × 23 columns</p>\n",
              "</div>\n",
              "      <button class=\"colab-df-convert\" onclick=\"convertToInteractive('df-2342cae9-3e8a-4ff0-ab90-bafaa6bc646d')\"\n",
              "              title=\"Convert this dataframe to an interactive table.\"\n",
              "              style=\"display:none;\">\n",
              "        \n",
              "  <svg xmlns=\"http://www.w3.org/2000/svg\" height=\"24px\"viewBox=\"0 0 24 24\"\n",
              "       width=\"24px\">\n",
              "    <path d=\"M0 0h24v24H0V0z\" fill=\"none\"/>\n",
              "    <path d=\"M18.56 5.44l.94 2.06.94-2.06 2.06-.94-2.06-.94-.94-2.06-.94 2.06-2.06.94zm-11 1L8.5 8.5l.94-2.06 2.06-.94-2.06-.94L8.5 2.5l-.94 2.06-2.06.94zm10 10l.94 2.06.94-2.06 2.06-.94-2.06-.94-.94-2.06-.94 2.06-2.06.94z\"/><path d=\"M17.41 7.96l-1.37-1.37c-.4-.4-.92-.59-1.43-.59-.52 0-1.04.2-1.43.59L10.3 9.45l-7.72 7.72c-.78.78-.78 2.05 0 2.83L4 21.41c.39.39.9.59 1.41.59.51 0 1.02-.2 1.41-.59l7.78-7.78 2.81-2.81c.8-.78.8-2.07 0-2.86zM5.41 20L4 18.59l7.72-7.72 1.47 1.35L5.41 20z\"/>\n",
              "  </svg>\n",
              "      </button>\n",
              "      \n",
              "  <style>\n",
              "    .colab-df-container {\n",
              "      display:flex;\n",
              "      flex-wrap:wrap;\n",
              "      gap: 12px;\n",
              "    }\n",
              "\n",
              "    .colab-df-convert {\n",
              "      background-color: #E8F0FE;\n",
              "      border: none;\n",
              "      border-radius: 50%;\n",
              "      cursor: pointer;\n",
              "      display: none;\n",
              "      fill: #1967D2;\n",
              "      height: 32px;\n",
              "      padding: 0 0 0 0;\n",
              "      width: 32px;\n",
              "    }\n",
              "\n",
              "    .colab-df-convert:hover {\n",
              "      background-color: #E2EBFA;\n",
              "      box-shadow: 0px 1px 2px rgba(60, 64, 67, 0.3), 0px 1px 3px 1px rgba(60, 64, 67, 0.15);\n",
              "      fill: #174EA6;\n",
              "    }\n",
              "\n",
              "    [theme=dark] .colab-df-convert {\n",
              "      background-color: #3B4455;\n",
              "      fill: #D2E3FC;\n",
              "    }\n",
              "\n",
              "    [theme=dark] .colab-df-convert:hover {\n",
              "      background-color: #434B5C;\n",
              "      box-shadow: 0px 1px 3px 1px rgba(0, 0, 0, 0.15);\n",
              "      filter: drop-shadow(0px 1px 2px rgba(0, 0, 0, 0.3));\n",
              "      fill: #FFFFFF;\n",
              "    }\n",
              "  </style>\n",
              "\n",
              "      <script>\n",
              "        const buttonEl =\n",
              "          document.querySelector('#df-2342cae9-3e8a-4ff0-ab90-bafaa6bc646d button.colab-df-convert');\n",
              "        buttonEl.style.display =\n",
              "          google.colab.kernel.accessAllowed ? 'block' : 'none';\n",
              "\n",
              "        async function convertToInteractive(key) {\n",
              "          const element = document.querySelector('#df-2342cae9-3e8a-4ff0-ab90-bafaa6bc646d');\n",
              "          const dataTable =\n",
              "            await google.colab.kernel.invokeFunction('convertToInteractive',\n",
              "                                                     [key], {});\n",
              "          if (!dataTable) return;\n",
              "\n",
              "          const docLinkHtml = 'Like what you see? Visit the ' +\n",
              "            '<a target=\"_blank\" href=https://colab.research.google.com/notebooks/data_table.ipynb>data table notebook</a>'\n",
              "            + ' to learn more about interactive tables.';\n",
              "          element.innerHTML = '';\n",
              "          dataTable['output_type'] = 'display_data';\n",
              "          await google.colab.output.renderOutput(dataTable, element);\n",
              "          const docLink = document.createElement('div');\n",
              "          docLink.innerHTML = docLinkHtml;\n",
              "          element.appendChild(docLink);\n",
              "        }\n",
              "      </script>\n",
              "    </div>\n",
              "  </div>\n",
              "  "
            ]
          },
          "metadata": {},
          "execution_count": 4
        }
      ],
      "source": [
        "reviews.head()"
      ]
    },
    {
      "cell_type": "code",
      "execution_count": null,
      "metadata": {
        "colab": {
          "base_uri": "https://localhost:8080/"
        },
        "id": "APmj9TxwjDfC",
        "outputId": "7307e7b5-89f8-4e47-f16c-4da626710263"
      },
      "outputs": [
        {
          "output_type": "execute_result",
          "data": {
            "text/plain": [
              "(712337, 23)"
            ]
          },
          "metadata": {},
          "execution_count": 5
        }
      ],
      "source": [
        "reviews.shape"
      ]
    },
    {
      "cell_type": "markdown",
      "metadata": {
        "id": "aLTQOUjjjDfD"
      },
      "source": [
        "#### 1. How To Find The Most Popular Movies\n",
        "\n",
        "For this notebook, we have a single task.  The task is that no matter the user, we need to provide a list of the recommendations based on simply the most popular items.\n",
        "\n",
        "For this task, we will consider what is \"most popular\" based on the following criteria:\n",
        "\n",
        "* A movie with the highest average rating is considered best\n",
        "* With ties, movies that have more ratings are better\n",
        "* A movie must have a minimum of 5 ratings to be considered among the best movies\n",
        "* If movies are tied in their average rating and number of ratings, the ranking is determined by the movie that is the most recent rating\n",
        "\n",
        "With these criteria, the goal for this notebook is to take a **user_id** and provide back the **n_top** recommendations.  Use the function below as the scaffolding that will be used for all the future recommendations as well."
      ]
    },
    {
      "cell_type": "code",
      "source": [
        "ids = (reviews.movie_id.value_counts() >= 5)\n",
        "ids = ids[ids == True].index.tolist()\n",
        "min_5 = reviews.query(f'movie_id == {ids}')\n",
        "# min_5.groupby('movie_id')['rating'].mean()\n",
        "# min_5.groupby('movie_id').max()['date']\n",
        "# ratings = min_5.groupby('movie_id')['rating']\n",
        "# avg_ratings = ratings.mean()\n",
        "# n_ratings = ratings.count()\n",
        "recent_rating = pd.DataFrame(min_5.groupby('movie_id')['date'].max())\n",
        "\n",
        "# min_5 = pd.DataFrame({'avg_rating': avg_ratings,\n",
        "#                                 'n_ratings': n_ratings,\n",
        "#                                 'recent_rating':recent_rating.date})\n",
        "min_5.head(1)"
      ],
      "metadata": {
        "colab": {
          "base_uri": "https://localhost:8080/",
          "height": 209
        },
        "id": "BbMNxXGZ558p",
        "outputId": "5e4bf69a-7b73-402e-fdc6-9b2e0c95dd55"
      },
      "execution_count": null,
      "outputs": [
        {
          "output_type": "execute_result",
          "data": {
            "text/plain": [
              "   user_id  movie_id  rating   timestamp                 date  month_1  \\\n",
              "0        1     68646      10  1381620027  2013-10-12 23:20:27        0   \n",
              "\n",
              "   month_2  month_3  month_4  month_5  ...  month_9  month_10  month_11  \\\n",
              "0        0        0        0        0  ...        0         1         0   \n",
              "\n",
              "   month_12  year_2013  year_2014  year_2015  year_2016  year_2017  year_2018  \n",
              "0         0          1          0          0          0          0          0  \n",
              "\n",
              "[1 rows x 23 columns]"
            ],
            "text/html": [
              "\n",
              "  <div id=\"df-1d8f31fd-3377-4b63-86d4-6bcc7ee12995\">\n",
              "    <div class=\"colab-df-container\">\n",
              "      <div>\n",
              "<style scoped>\n",
              "    .dataframe tbody tr th:only-of-type {\n",
              "        vertical-align: middle;\n",
              "    }\n",
              "\n",
              "    .dataframe tbody tr th {\n",
              "        vertical-align: top;\n",
              "    }\n",
              "\n",
              "    .dataframe thead th {\n",
              "        text-align: right;\n",
              "    }\n",
              "</style>\n",
              "<table border=\"1\" class=\"dataframe\">\n",
              "  <thead>\n",
              "    <tr style=\"text-align: right;\">\n",
              "      <th></th>\n",
              "      <th>user_id</th>\n",
              "      <th>movie_id</th>\n",
              "      <th>rating</th>\n",
              "      <th>timestamp</th>\n",
              "      <th>date</th>\n",
              "      <th>month_1</th>\n",
              "      <th>month_2</th>\n",
              "      <th>month_3</th>\n",
              "      <th>month_4</th>\n",
              "      <th>month_5</th>\n",
              "      <th>...</th>\n",
              "      <th>month_9</th>\n",
              "      <th>month_10</th>\n",
              "      <th>month_11</th>\n",
              "      <th>month_12</th>\n",
              "      <th>year_2013</th>\n",
              "      <th>year_2014</th>\n",
              "      <th>year_2015</th>\n",
              "      <th>year_2016</th>\n",
              "      <th>year_2017</th>\n",
              "      <th>year_2018</th>\n",
              "    </tr>\n",
              "  </thead>\n",
              "  <tbody>\n",
              "    <tr>\n",
              "      <th>0</th>\n",
              "      <td>1</td>\n",
              "      <td>68646</td>\n",
              "      <td>10</td>\n",
              "      <td>1381620027</td>\n",
              "      <td>2013-10-12 23:20:27</td>\n",
              "      <td>0</td>\n",
              "      <td>0</td>\n",
              "      <td>0</td>\n",
              "      <td>0</td>\n",
              "      <td>0</td>\n",
              "      <td>...</td>\n",
              "      <td>0</td>\n",
              "      <td>1</td>\n",
              "      <td>0</td>\n",
              "      <td>0</td>\n",
              "      <td>1</td>\n",
              "      <td>0</td>\n",
              "      <td>0</td>\n",
              "      <td>0</td>\n",
              "      <td>0</td>\n",
              "      <td>0</td>\n",
              "    </tr>\n",
              "  </tbody>\n",
              "</table>\n",
              "<p>1 rows × 23 columns</p>\n",
              "</div>\n",
              "      <button class=\"colab-df-convert\" onclick=\"convertToInteractive('df-1d8f31fd-3377-4b63-86d4-6bcc7ee12995')\"\n",
              "              title=\"Convert this dataframe to an interactive table.\"\n",
              "              style=\"display:none;\">\n",
              "        \n",
              "  <svg xmlns=\"http://www.w3.org/2000/svg\" height=\"24px\"viewBox=\"0 0 24 24\"\n",
              "       width=\"24px\">\n",
              "    <path d=\"M0 0h24v24H0V0z\" fill=\"none\"/>\n",
              "    <path d=\"M18.56 5.44l.94 2.06.94-2.06 2.06-.94-2.06-.94-.94-2.06-.94 2.06-2.06.94zm-11 1L8.5 8.5l.94-2.06 2.06-.94-2.06-.94L8.5 2.5l-.94 2.06-2.06.94zm10 10l.94 2.06.94-2.06 2.06-.94-2.06-.94-.94-2.06-.94 2.06-2.06.94z\"/><path d=\"M17.41 7.96l-1.37-1.37c-.4-.4-.92-.59-1.43-.59-.52 0-1.04.2-1.43.59L10.3 9.45l-7.72 7.72c-.78.78-.78 2.05 0 2.83L4 21.41c.39.39.9.59 1.41.59.51 0 1.02-.2 1.41-.59l7.78-7.78 2.81-2.81c.8-.78.8-2.07 0-2.86zM5.41 20L4 18.59l7.72-7.72 1.47 1.35L5.41 20z\"/>\n",
              "  </svg>\n",
              "      </button>\n",
              "      \n",
              "  <style>\n",
              "    .colab-df-container {\n",
              "      display:flex;\n",
              "      flex-wrap:wrap;\n",
              "      gap: 12px;\n",
              "    }\n",
              "\n",
              "    .colab-df-convert {\n",
              "      background-color: #E8F0FE;\n",
              "      border: none;\n",
              "      border-radius: 50%;\n",
              "      cursor: pointer;\n",
              "      display: none;\n",
              "      fill: #1967D2;\n",
              "      height: 32px;\n",
              "      padding: 0 0 0 0;\n",
              "      width: 32px;\n",
              "    }\n",
              "\n",
              "    .colab-df-convert:hover {\n",
              "      background-color: #E2EBFA;\n",
              "      box-shadow: 0px 1px 2px rgba(60, 64, 67, 0.3), 0px 1px 3px 1px rgba(60, 64, 67, 0.15);\n",
              "      fill: #174EA6;\n",
              "    }\n",
              "\n",
              "    [theme=dark] .colab-df-convert {\n",
              "      background-color: #3B4455;\n",
              "      fill: #D2E3FC;\n",
              "    }\n",
              "\n",
              "    [theme=dark] .colab-df-convert:hover {\n",
              "      background-color: #434B5C;\n",
              "      box-shadow: 0px 1px 3px 1px rgba(0, 0, 0, 0.15);\n",
              "      filter: drop-shadow(0px 1px 2px rgba(0, 0, 0, 0.3));\n",
              "      fill: #FFFFFF;\n",
              "    }\n",
              "  </style>\n",
              "\n",
              "      <script>\n",
              "        const buttonEl =\n",
              "          document.querySelector('#df-1d8f31fd-3377-4b63-86d4-6bcc7ee12995 button.colab-df-convert');\n",
              "        buttonEl.style.display =\n",
              "          google.colab.kernel.accessAllowed ? 'block' : 'none';\n",
              "\n",
              "        async function convertToInteractive(key) {\n",
              "          const element = document.querySelector('#df-1d8f31fd-3377-4b63-86d4-6bcc7ee12995');\n",
              "          const dataTable =\n",
              "            await google.colab.kernel.invokeFunction('convertToInteractive',\n",
              "                                                     [key], {});\n",
              "          if (!dataTable) return;\n",
              "\n",
              "          const docLinkHtml = 'Like what you see? Visit the ' +\n",
              "            '<a target=\"_blank\" href=https://colab.research.google.com/notebooks/data_table.ipynb>data table notebook</a>'\n",
              "            + ' to learn more about interactive tables.';\n",
              "          element.innerHTML = '';\n",
              "          dataTable['output_type'] = 'display_data';\n",
              "          await google.colab.output.renderOutput(dataTable, element);\n",
              "          const docLink = document.createElement('div');\n",
              "          docLink.innerHTML = docLinkHtml;\n",
              "          element.appendChild(docLink);\n",
              "        }\n",
              "      </script>\n",
              "    </div>\n",
              "  </div>\n",
              "  "
            ]
          },
          "metadata": {},
          "execution_count": 23
        }
      ]
    },
    {
      "cell_type": "code",
      "execution_count": null,
      "metadata": {
        "id": "oPx67HN4jDfF"
      },
      "outputs": [],
      "source": [
        "def popular_recommendations(user_id, n_top):\n",
        "\n",
        "    '''\n",
        "    INPUT:\n",
        "    user_id - the user_id of the individual you are making recommendations for\n",
        "    n_top - an integer of the number recommendations you want back\n",
        "    OUTPUT:\n",
        "    top_movies - a list of the n_top recommended movies by movie title in order best to worst\n",
        "    '''\n",
        "    # Do stuff\n",
        "   \n",
        "    ids = (reviews.movie_id.value_counts() >= 5)\n",
        "    ids = ids[ids == True].index.tolist()\n",
        "    min_5 = reviews.query(f'movie_id == {ids}')\n",
        "\n",
        "    \n",
        "    ratings = min_5.groupby('movie_id')['rating']\n",
        "    avg_ratings = ratings.mean()\n",
        "    n_ratings = ratings.count()\n",
        "    recent_rating = pd.DataFrame(min_5.groupby('movie_id')['date'].max())\n",
        "\n",
        "    min_5 = pd.DataFrame({'avg_rating': avg_ratings,\n",
        "                                    'n_ratings': n_ratings,\n",
        "                                    'recent_rating':recent_rating.date})\n",
        "    \n",
        "    # get movies names\n",
        "    movie_df = movies.set_index('movie_id')[['movie']].join(min_5, how='right')\n",
        "\n",
        "    # sort by avg rating then number of ratings then the most recent review\n",
        "    top_df = movie_df.sort_values(['avg_rating', 'n_ratings', 'recent_rating'], ascending=False)\n",
        "    top_movies = list(top_df['movie'][:n_top])\n",
        "    \n",
        "    return top_movies # a list of the n_top movies as recommended"
      ]
    },
    {
      "cell_type": "markdown",
      "metadata": {
        "id": "8ggtrEdHjDfG"
      },
      "source": [
        "After Implementing the above function go to the practical quiz in maharatech link and solve the MCQ there. "
      ]
    },
    {
      "cell_type": "code",
      "source": [
        "import tests as t\n"
      ],
      "metadata": {
        "id": "F6QiwwWb5wLe"
      },
      "execution_count": null,
      "outputs": []
    },
    {
      "cell_type": "code",
      "source": [
        "popular_recommendations(1, 3)\n"
      ],
      "metadata": {
        "colab": {
          "base_uri": "https://localhost:8080/"
        },
        "id": "-fmsDEHNiwmF",
        "outputId": "e18fbe49-d99b-4ab1-b242-dfd2c0595c48"
      },
      "execution_count": null,
      "outputs": [
        {
          "output_type": "execute_result",
          "data": {
            "text/plain": [
              "['MSG 2 the Messenger (2015)',\n",
              " 'Avengers: Age of Ultron Parody (2015)',\n",
              " 'Sorry to Bother You (2018)']"
            ]
          },
          "metadata": {},
          "execution_count": 33
        }
      ]
    },
    {
      "cell_type": "code",
      "source": [
        "popular_recommendations(6364, 100)\n"
      ],
      "metadata": {
        "colab": {
          "base_uri": "https://localhost:8080/"
        },
        "id": "unYlkg2NC3d3",
        "outputId": "cdc63d0c-5c32-42ab-dc0f-e8507aa5b796"
      },
      "execution_count": null,
      "outputs": [
        {
          "output_type": "execute_result",
          "data": {
            "text/plain": [
              "['MSG 2 the Messenger (2015)',\n",
              " 'Avengers: Age of Ultron Parody (2015)',\n",
              " 'Sorry to Bother You (2018)',\n",
              " 'Selam (2013)',\n",
              " \"Quiet Riot: Well Now You're Here, There's No Way Back (2014)\",\n",
              " 'Crawl Bitch Crawl (2012)',\n",
              " 'Make Like a Dog (2015)',\n",
              " 'Pandorica (2016)',\n",
              " 'Third Contact (2011)',\n",
              " 'Romeo Juliet (2009)',\n",
              " 'Be Somebody (2016)',\n",
              " 'Birlesen Gonuller (2014)',\n",
              " 'Agnelli (2017)',\n",
              " 'Sátántangó (1994)',\n",
              " 'Shijie (2004)',\n",
              " 'Foster (2011)',\n",
              " 'CM101MMXI Fundamentals (2013)',\n",
              " 'Akahige (1965)',\n",
              " 'Crystal Lake Memories: The Complete History of Friday the 13th (2013)',\n",
              " 'Körkarlen (1921)',\n",
              " 'Tengoku to jigoku (1963)',\n",
              " 'Kirik Party (2016)',\n",
              " 'Chasing Asylum (2016)',\n",
              " 'Beyond the Sea (2004)',\n",
              " 'Blood Brother (2013)',\n",
              " 'Poshter Girl (2016)',\n",
              " 'The Adventures of Robin Hood (1938)',\n",
              " 'Umberto D. (1952)',\n",
              " 'Bridegroom (2013)',\n",
              " 'No Stone Unturned (2017)',\n",
              " 'Mad As Hell (2014)',\n",
              " 'Nashville (1975)',\n",
              " 'The Shawshank Redemption (1994)',\n",
              " 'A Matter of Life and Death (1946)',\n",
              " 'Cyborgs: Heroes Never Die (2017)',\n",
              " 'Presto (2008)',\n",
              " 'Everything or Nothing: The Untold Story of 007 (2012)',\n",
              " 'Dag II (2016)',\n",
              " 'The Lord of the Rings: The Return of the King (2003)',\n",
              " 'Sanshô dayû (1954)',\n",
              " \"Hillary's America: The Secret History of the Democratic Party (2016)\",\n",
              " 'Seppuku (1962)',\n",
              " 'The Phantom of the Opera at the Royal Albert Hall (2011)',\n",
              " 'Chasing Coral (2017)',\n",
              " 'Terra (2015)',\n",
              " 'Hidden Colors (2011)',\n",
              " 'Berserk: Ohgon jidai hen 3 - Kôrin (2013)',\n",
              " 'Men at Lunch (2012)',\n",
              " 'The Dark Knight (2008)',\n",
              " 'Andaz Apna Apna (1994)',\n",
              " 'Przypadek (1987)',\n",
              " \"La passion de Jeanne d'Arc (1928)\",\n",
              " 'Jalsaghar (1958)',\n",
              " 'Ayla: The Daughter of War (2017)',\n",
              " 'Kites (2010)',\n",
              " 'Lakshya (2004)',\n",
              " 'Notre musique (2004)',\n",
              " \"Bab'Aziz (2005)\",\n",
              " 'A Face in the Crowd (1957)',\n",
              " 'Southern Comfort (1981)',\n",
              " 'The Decline of Western Civilization (1981)',\n",
              " 'Who is Dayani Cristal? (2013)',\n",
              " 'Zinda Bhaag (2013)',\n",
              " '12 Angry Men (1957)',\n",
              " 'Taare Zameen Par (2007)',\n",
              " 'Night Will Fall (2014)',\n",
              " 'Nema-ye Nazdik (1990)',\n",
              " 'Hitting the Apex (2015)',\n",
              " 'Advise & Consent (1962)',\n",
              " 'To Be or Not to Be (1942)',\n",
              " 'Le notti di Cabiria (1957)',\n",
              " 'Ma nuit chez Maud (1969)',\n",
              " 'Colombia magia salvaje (2015)',\n",
              " 'The Message (1977)',\n",
              " 'Shelter (2007)',\n",
              " 'Apur Sansar (1959)',\n",
              " 'Moskva slezam ne verit (1979)',\n",
              " 'Aparajito (1956)',\n",
              " 'The Godfather: Part II (1974)',\n",
              " 'Amadeus (1984)',\n",
              " 'Terminator 2: Judgment Day (1991)',\n",
              " 'Letyat zhuravli (1957)',\n",
              " 'Messi (2014)',\n",
              " \"It's a Wonderful Life (1946)\",\n",
              " 'I Believe in Miracles (2015)',\n",
              " 'Dai-bosatsu tôge (1966)',\n",
              " 'Umut (1970)',\n",
              " 'Le trou (1960)',\n",
              " 'Cowboy Bebop: Tengoku no tobira (2001)',\n",
              " 'Roger Waters the Wall (2014)',\n",
              " 'Ordet (1955)',\n",
              " 'Wild Wild Country (2018)',\n",
              " 'Il buono, il brutto, il cattivo. (1966)',\n",
              " 'Forrest Gump (1994)',\n",
              " 'The Green Mile (1999)',\n",
              " \"Schindler's List (1993)\",\n",
              " 'The Godfather (1972)',\n",
              " 'Bajrangi Bhaijaan (2015)',\n",
              " 'Ikiru (1952)',\n",
              " \"One Flew Over the Cuckoo's Nest (1975)\"]"
            ]
          },
          "metadata": {},
          "execution_count": 26
        }
      ]
    },
    {
      "cell_type": "code",
      "execution_count": null,
      "metadata": {
        "id": "tF4NfkN5jDfI"
      },
      "outputs": [],
      "source": [
        "# Put your solutions for MCQ here"
      ]
    },
    {
      "cell_type": "markdown",
      "metadata": {
        "id": "b7jSscA_jDfK"
      },
      "source": [
        "**Notice:** This wasn't the only way we could have determined the \"top rated\" movies.  You can imagine that in keeping track of trending news or trending social events, you would likely want to create a time window from the current time, and then pull the articles in the most recent time frame.  There are always going to be some subjective decisions to be made.  \n",
        "\n",
        "If you find that no one is paying any attention to your most popular recommendations, then it might be time to find a new way to recommend, which is what the next parts of the lesson should prepare us to do!\n"
      ]
    },
    {
      "cell_type": "markdown",
      "metadata": {
        "id": "3Z0AER2YjDfM"
      },
      "source": [
        "### Part II: Adding Filters\n",
        "\n",
        "Now that you have created a function to give back the **n_top** movies, let's make it a bit more robust.  Add arguments that will act as filters for the movie **year** and **genre**.  \n",
        "\n",
        "Use the cells below to adjust your existing function to allow for **year** and **genre** arguments as **lists** of **strings**.  Then your ending results are filtered to only movies within the lists of provided years and genres (as `or` conditions).  If no list is provided, there should be no filter applied.\n",
        "\n",
        "You can adjust other necessary inputs as necessary to retrieve the final results you are looking for!\n",
        "\n",
        "The shape of the function should be as below:\n",
        "```\n",
        "popular_recs_filtered('1', 20, ranked_movies, years=['2015', '2016', '2017', '2018'], genres=['History', 'Comedy'])\n",
        "```"
      ]
    },
    {
      "cell_type": "code",
      "execution_count": null,
      "metadata": {
        "id": "8cP1AHOejDfN"
      },
      "outputs": [],
      "source": [
        "def popular_recommendations_filtered(user_id, n_top, years=None, genres=None):\n",
        "    '''\n",
        "    INPUT:\n",
        "    user_id - the user_id of the individual you are making recommendations for\n",
        "    n_top - an integer of the number recommendations you want back\n",
        "    OUTPUT:\n",
        "    top_movies - a list of the n_top recommended movies by movie title in order best to worst\n",
        "    '''\n",
        "    # Do stuff\n",
        "    # get movies with at least 5 reviews\n",
        "    ids = (reviews.movie_id.value_counts() >= 5)\n",
        "    ids = ids[ids == True].index.tolist()\n",
        "    min_5 = reviews.query(f'movie_id == {ids}')\n",
        "\n",
        "    \n",
        "    ratings = min_5.groupby('movie_id')['rating']\n",
        "    avg_ratings = ratings.mean()\n",
        "    n_ratings = ratings.count()\n",
        "    recent_rating = pd.DataFrame(min_5.groupby('movie_id').max()['date'])\n",
        "\n",
        "    min_5 = pd.DataFrame({'avg_rating': avg_ratings,\n",
        "                                    'n_ratings': n_ratings,\n",
        "                                    'recent_rating':recent_rating.date})\n",
        "    \n",
        "    # get movies names\n",
        "    movie_df = movies.copy(deep=True)\n",
        "    \n",
        "    if years is not None:\n",
        "        movie_df = movie_df[movie_df['date'].isin(years)]\n",
        "        \n",
        "    if genres is not None:\n",
        "        num_genre_match = movie_df[genres].sum(axis=1)\n",
        "        movie_df = movie_df.loc[num_genre_match > 0, :]\n",
        "    \n",
        "    movie_df = movie_df.set_index('movie_id')[['movie']].join(min_5, how='inner')\n",
        "    \n",
        "    # sort by avg rating then number of ratings then the most recent review\n",
        "    top_df = movie_df.sort_values(['avg_rating', 'n_ratings', 'recent_rating'], ascending=False)\n",
        "    top_movies = list(top_df['movie'][:n_top])\n",
        "\n",
        "    \n",
        "       \n",
        "    return top_movies"
      ]
    },
    {
      "cell_type": "code",
      "source": [
        "# popular_recommendations('1', 3, years=[2015], genres=['Romance'])\n",
        "# popular_recommendations(user_id='1', n_top=3, years=[2015, 2016, 2017, 2018], genres=['Romance'])\n",
        "popular_recommendations_filtered('1', 3, years=[2015, 2016, 2017, 2018], genres=['Romance'])\n"
      ],
      "metadata": {
        "colab": {
          "base_uri": "https://localhost:8080/"
        },
        "id": "o1pvaqy9i-_N",
        "outputId": "f378895f-9019-46c0-eae4-d9f5a9fd11a8"
      },
      "execution_count": null,
      "outputs": [
        {
          "output_type": "execute_result",
          "data": {
            "text/plain": [
              "['Koe no katachi (2016)', 'Departure (2015)', 'Hepta: The Last Lecture (2016)']"
            ]
          },
          "metadata": {},
          "execution_count": 37
        }
      ]
    },
    {
      "cell_type": "code",
      "source": [
        "popular_recommendations_filtered('1', 3, years=[2014], genres=['History'])\n"
      ],
      "metadata": {
        "colab": {
          "base_uri": "https://localhost:8080/"
        },
        "id": "VMQyNk8niLBS",
        "outputId": "492e0d2a-ca88-463c-a7f6-817dba341ace"
      },
      "execution_count": null,
      "outputs": [
        {
          "output_type": "execute_result",
          "data": {
            "text/plain": [
              "['Birlesen Gonuller (2014)', 'Night Will Fall (2014)', 'Red Army (2014)']"
            ]
          },
          "metadata": {},
          "execution_count": 32
        }
      ]
    },
    {
      "cell_type": "code",
      "execution_count": null,
      "metadata": {
        "id": "Mf3dDSbyjDfP",
        "colab": {
          "base_uri": "https://localhost:8080/"
        },
        "outputId": "cb577c91-f3fe-4136-a15e-58dff30232cf"
      },
      "outputs": [
        {
          "output_type": "execute_result",
          "data": {
            "text/plain": [
              "['Birlesen Gonuller (2014)',\n",
              " 'Seppuku (1962)',\n",
              " \"La passion de Jeanne d'Arc (1928)\",\n",
              " 'Ayla: The Daughter of War (2017)',\n",
              " 'The Decline of Western Civilization (1981)',\n",
              " 'Night Will Fall (2014)',\n",
              " 'I Believe in Miracles (2015)',\n",
              " \"Schindler's List (1993)\",\n",
              " 'Judgment at Nuremberg (1961)',\n",
              " 'The Culture High (2014)',\n",
              " 'Let the Fire Burn (2013)',\n",
              " 'For Greater Glory: The True Story of Cristiada (2012)',\n",
              " 'Braveheart (1995)',\n",
              " 'In the Name of the Father (1993)',\n",
              " 'Requiem for the American Dream (2015)',\n",
              " 'Andrey Rublyov (1966)',\n",
              " 'The Farthest (2017)',\n",
              " 'The Mask You Live In (2015)',\n",
              " 'Mrs Brown (1997)',\n",
              " 'Nanjing! Nanjing! (2009)',\n",
              " 'Aguirre, der Zorn Gottes (1972)',\n",
              " 'Alive Inside (2014)',\n",
              " 'A Bridge Too Far (1977)',\n",
              " 'Russkiy kovcheg (2002)',\n",
              " 'Pearl Jam Twenty (2011)',\n",
              " 'Gandhi (1982)',\n",
              " 'JFK (1991)',\n",
              " 'Sado (2015)',\n",
              " 'Mai wei (2011)',\n",
              " 'Inherit the Wind (1960)',\n",
              " 'In Cold Blood (1967)',\n",
              " 'Hatred (2016)',\n",
              " 'The Long Walk Home (1990)',\n",
              " 'Ugetsu monogatari (1953)',\n",
              " 'Il gattopardo (1963)',\n",
              " 'Trilogia: To livadi pou dakryzei (2004)',\n",
              " 'The Devils (1971)',\n",
              " 'Hotel Rwanda (2004)',\n",
              " 'The Right Stuff (1983)',\n",
              " 'Nuit et brouillard (1955)',\n",
              " 'Deep Water (2006)',\n",
              " 'Al Midan (2013)',\n",
              " 'Seabiscuit (2003)',\n",
              " \"The King's Speech (2010)\",\n",
              " 'Talk to Me (2007)',\n",
              " 'Marina Abramovic: The Artist Is Present (2012)',\n",
              " '12 Years a Slave (2013)',\n",
              " 'In the Shadow of the Moon (2007)',\n",
              " 'Kincsem (2017)',\n",
              " 'How to Survive a Plague (2012)',\n",
              " 'The Alamo (2004)',\n",
              " 'Choi-jong-byeong-gi Hwal (2011)',\n",
              " 'Red Army (2014)',\n",
              " 'Jeder für sich und Gott gegen alle (1974)',\n",
              " 'Gallipoli (1981)',\n",
              " \"Jodorowsky's Dune (2013)\",\n",
              " 'Tombstone (1993)',\n",
              " 'Rang De Basanti (2006)',\n",
              " 'Nise - O Coração da Loucura (2015)',\n",
              " 'LA 92 (2017)',\n",
              " 'The Great Escape (1963)',\n",
              " 'Citizenfour (2014)',\n",
              " 'Straight Outta Compton (2015)',\n",
              " 'The Last Samurai (2003)',\n",
              " 'Manjhi: The Mountain Man (2015)',\n",
              " 'The Fog of War: Eleven Lessons from the Life of Robert S. McNamara (2003)',\n",
              " 'Ying xiong (2002)',\n",
              " \"Tim's Vermeer (2013)\",\n",
              " 'The Killing Fields (1984)',\n",
              " 'The Act of Killing (2012)',\n",
              " 'The Wind That Shakes the Barley (2006)',\n",
              " 'Lion of the Desert (1981)',\n",
              " 'Battle of Britain (1969)',\n",
              " 'Zulu (1964)',\n",
              " 'The Last Emperor (1987)',\n",
              " 'Letters from Iwo Jima (2006)',\n",
              " 'The Barkley Marathons: The Race That Eats Its Young (2014)',\n",
              " 'Glory (1989)',\n",
              " 'A Man for All Seasons (1966)',\n",
              " 'Kagemusha (1980)',\n",
              " 'Gwanghae, Wangyidoen namja (2012)',\n",
              " 'Chi bi xia: Jue zhan tian xia (2009)',\n",
              " 'Frost/Nixon (2008)',\n",
              " 'A Night to Remember (1958)',\n",
              " 'The Corporation (2003)',\n",
              " 'Only the Dead (2015)',\n",
              " 'Nanking (2007)',\n",
              " 'The Revisionaries (2012)',\n",
              " 'The Dam Busters (1955)',\n",
              " 'Spotlight (2015)',\n",
              " 'Under sandet (2015)',\n",
              " \"All the President's Men (1976)\",\n",
              " 'A Passage to India (1984)',\n",
              " 'Il vangelo secondo Matteo (1964)',\n",
              " '1 (2013)',\n",
              " 'Les Misérables (1998)',\n",
              " 'The Search for General Tso (2014)',\n",
              " 'Missing (1982)',\n",
              " 'Last Days in Vietnam (2014)',\n",
              " 'Elizabeth (1998)']"
            ]
          },
          "metadata": {},
          "execution_count": 38
        }
      ],
      "source": [
        "# Put your solutions for MCQ here\n",
        "popular_recommendations_filtered('70000', 100, genres=['History', 'News'])\n"
      ]
    },
    {
      "cell_type": "markdown",
      "metadata": {
        "id": "LS0dwCH-jDfQ"
      },
      "source": [
        "After Implementing the above function go to the practical quiz in maharatech link and solve the MCQ there. "
      ]
    },
    {
      "cell_type": "code",
      "execution_count": null,
      "metadata": {
        "id": "MqFA2nn3jDfQ"
      },
      "outputs": [],
      "source": []
    },
    {
      "cell_type": "code",
      "execution_count": null,
      "metadata": {
        "id": "TKLjuyHdjDfR"
      },
      "outputs": [],
      "source": []
    },
    {
      "cell_type": "code",
      "execution_count": null,
      "metadata": {
        "id": "lpyFxitjjDfS"
      },
      "outputs": [],
      "source": []
    },
    {
      "cell_type": "code",
      "execution_count": null,
      "metadata": {
        "id": "6M-64EG1jDfS"
      },
      "outputs": [],
      "source": []
    },
    {
      "cell_type": "code",
      "execution_count": null,
      "metadata": {
        "id": "M6yNkEI3jDfT"
      },
      "outputs": [],
      "source": []
    },
    {
      "cell_type": "code",
      "execution_count": null,
      "metadata": {
        "id": "6dJ7AfUijDfT"
      },
      "outputs": [],
      "source": []
    },
    {
      "cell_type": "code",
      "execution_count": null,
      "metadata": {
        "id": "sVWx8O8tjDfU"
      },
      "outputs": [],
      "source": []
    },
    {
      "cell_type": "code",
      "execution_count": null,
      "metadata": {
        "id": "yRByC5vdjDfU"
      },
      "outputs": [],
      "source": []
    },
    {
      "cell_type": "code",
      "execution_count": null,
      "metadata": {
        "id": "V2cHPAWujDfV"
      },
      "outputs": [],
      "source": []
    },
    {
      "cell_type": "code",
      "execution_count": null,
      "metadata": {
        "id": "nMtrHQmOjDfV"
      },
      "outputs": [],
      "source": []
    },
    {
      "cell_type": "code",
      "execution_count": null,
      "metadata": {
        "id": "9VpqN3prjDfW"
      },
      "outputs": [],
      "source": []
    },
    {
      "cell_type": "code",
      "execution_count": null,
      "metadata": {
        "id": "cUedTHZLjDfW"
      },
      "outputs": [],
      "source": []
    }
  ],
  "metadata": {
    "kernelspec": {
      "display_name": "Python 3",
      "language": "python",
      "name": "python3"
    },
    "language_info": {
      "codemirror_mode": {
        "name": "ipython",
        "version": 3
      },
      "file_extension": ".py",
      "mimetype": "text/x-python",
      "name": "python",
      "nbconvert_exporter": "python",
      "pygments_lexer": "ipython3",
      "version": "3.8.8"
    },
    "colab": {
      "provenance": [],
      "collapsed_sections": []
    }
  },
  "nbformat": 4,
  "nbformat_minor": 0
}