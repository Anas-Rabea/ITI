{
 "cells": [
  {
   "cell_type": "markdown",
   "id": "6e0f76ee",
   "metadata": {},
   "source": [
    "## *Factorial*\n"
   ]
  },
  {
   "cell_type": "code",
   "execution_count": 23,
   "id": "719bde3f",
   "metadata": {},
   "outputs": [],
   "source": [
    "def fac_rec(n):\n",
    "    if n==1 or n==0 : return 1\n",
    "    else:\n",
    "        return n*fac_rec(n-1)\n",
    "\n",
    "#*************#\n",
    "def fac_iter(n):\n",
    "    result = 1\n",
    "    if n==0 or n==1: return result\n",
    "    if n>1:\n",
    "        for i in range(2,n+1):\n",
    "            result = result*i\n",
    "    return result"
   ]
  },
  {
   "cell_type": "code",
   "execution_count": 24,
   "id": "2a186988",
   "metadata": {},
   "outputs": [
    {
     "data": {
      "text/plain": [
       "(1, 120)"
      ]
     },
     "execution_count": 24,
     "metadata": {},
     "output_type": "execute_result"
    }
   ],
   "source": [
    "fac_rec(1), fac_iter(5)"
   ]
  },
  {
   "cell_type": "markdown",
   "id": "b109a1cb",
   "metadata": {},
   "source": [
    "## *fibonacci*\n"
   ]
  },
  {
   "cell_type": "code",
   "execution_count": 46,
   "id": "89e42b27",
   "metadata": {},
   "outputs": [],
   "source": [
    "def fib_rec(n):\n",
    "    if n<=1: return n\n",
    "    else: \n",
    "        return fib_rec(n-1)+fib_rec(n-2)\n",
    "\n",
    "#***********************#\n",
    "    \n",
    "def fib_iter(n):\n",
    "    f=list()\n",
    "    f.append(0); f.append(1)\n",
    "    for i in range(2,n+1):\n",
    "        #f[i]=f[i-1]+f[i-2]\n",
    "        f.append(f[i-1]+f[i-2])\n",
    "    \n",
    "    return f[n]"
   ]
  },
  {
   "cell_type": "code",
   "execution_count": 47,
   "id": "e06da98d",
   "metadata": {},
   "outputs": [
    {
     "data": {
      "text/plain": [
       "(55, 55)"
      ]
     },
     "execution_count": 47,
     "metadata": {},
     "output_type": "execute_result"
    }
   ],
   "source": [
    "fib_rec(10), fib_iter(10)"
   ]
  },
  {
   "cell_type": "markdown",
   "id": "96485222",
   "metadata": {},
   "source": [
    "## *Linear search*\n"
   ]
  },
  {
   "cell_type": "code",
   "execution_count": 173,
   "id": "a7005044",
   "metadata": {},
   "outputs": [],
   "source": [
    "def ls_rec( arr, l, r, v):\n",
    "    if r < l:\n",
    "        return -1\n",
    "    if arr[l] == v:\n",
    "        return l\n",
    "    return ls_rec(arr, l+1, r-1, v)\n",
    " \n",
    "\n",
    "#****************************#\n",
    "\n",
    "def ls_iter(L,v):  #  L is list being searched , v is the value to find\n",
    "    result = -1 \n",
    "    for element in L:\n",
    "        if element == v:\n",
    "            result=element\n",
    "            return str(result)+\" is found\"\n",
    "    return str(v)+\" not found\""
   ]
  },
  {
   "cell_type": "code",
   "execution_count": 174,
   "id": "8f7add56",
   "metadata": {},
   "outputs": [
    {
     "data": {
      "text/plain": [
       "('10 not found', -1)"
      ]
     },
     "execution_count": 174,
     "metadata": {},
     "output_type": "execute_result"
    }
   ],
   "source": [
    "my_list=[1,2,3,6,54,8]\n",
    "ls_iter(my_list,10) ,  ls_rec(my_list, 0, len(my_list)-1 , 10)\n"
   ]
  },
  {
   "cell_type": "markdown",
   "id": "4fb5e61c",
   "metadata": {},
   "source": [
    "## *Binary search*\n"
   ]
  },
  {
   "cell_type": "code",
   "execution_count": 95,
   "id": "45232272",
   "metadata": {},
   "outputs": [],
   "source": [
    "def bin_rec(arr,low, high, value):\n",
    "    if high >= low:\n",
    "        mid = int((high + low)/2) \n",
    "        if arr[mid] == value:\n",
    "            return mid \n",
    "        elif arr[mid] > value:\n",
    "            return bin_rec(arr, low, mid - 1, value)\n",
    "        else:\n",
    "            return bin_rec(arr, mid + 1, high, value)\n",
    "    else:\n",
    "        \n",
    "        return -1\n",
    "    \n",
    "#***************************#\n",
    "def bin_iter(listData, value):\n",
    "        low = 0\n",
    "        high = len(listData) -1\n",
    "        while (low <= high):\n",
    "            mid = int((low + high) /2)\n",
    "            #print(mid , low , high)\n",
    "            if (listData[mid] == value):\n",
    "                return mid\n",
    "            elif (listData[mid] < value):    \n",
    "                low = mid + 1\n",
    "            else:\n",
    "                high = mid - 1\n",
    "        return -1"
   ]
  },
  {
   "cell_type": "code",
   "execution_count": 96,
   "id": "f05f264e",
   "metadata": {},
   "outputs": [
    {
     "data": {
      "text/plain": [
       "(5, 5)"
      ]
     },
     "execution_count": 96,
     "metadata": {},
     "output_type": "execute_result"
    }
   ],
   "source": [
    "my_list=[1,2,3,6,8,54]\n",
    "bin_iter(my_list,54) , bin_rec(my_list,0,len(my_list),54)"
   ]
  },
  {
   "cell_type": "markdown",
   "id": "b6ea2428",
   "metadata": {},
   "source": [
    "## *Insertion sort*\n"
   ]
  },
  {
   "cell_type": "code",
   "execution_count": 141,
   "id": "1dd1a83a",
   "metadata": {},
   "outputs": [],
   "source": [
    "# Recursive Python program for insertion sort\n",
    "# Recursive function to sort an array using insertion sort\n",
    "\n",
    "def insertionSortRecursive(arr,n):\n",
    "# base case\n",
    "    if n<=1:\n",
    "        return\n",
    "\n",
    "    # Sort first n-1 elements\n",
    "    insertionSortRecursive(arr,n-1)\n",
    "    last = arr[n-1]\n",
    "    j = n-2\n",
    "\n",
    "    # Move elements of arr[0..i-1], that are\n",
    "    # greater than key, to one position ahead\n",
    "    # of their current position\n",
    "    while (j>=0 and arr[j]>last):\n",
    "        arr[j+1] = arr[j]\n",
    "        j = j-1\n",
    "\n",
    "    arr[j+1]=last\n",
    "\n"
   ]
  },
  {
   "cell_type": "code",
   "execution_count": 142,
   "id": "dc447a10",
   "metadata": {},
   "outputs": [],
   "source": [
    "def insertionSortIterative(arr):\n",
    "  \n",
    "    for i in range(1, len(arr)):\n",
    "        key = arr[i]\n",
    "        j = i-1\n",
    "        while j >=0 and key < arr[j] :\n",
    "                arr[j+1] = arr[j]\n",
    "                j -= 1\n",
    "        arr[j+1] = key"
   ]
  },
  {
   "cell_type": "code",
   "execution_count": 143,
   "id": "8dcd5a1e",
   "metadata": {},
   "outputs": [
    {
     "data": {
      "text/plain": [
       "([5, 6, 11, 12, 13], [5, 6, 11, 12, 13])"
      ]
     },
     "execution_count": 143,
     "metadata": {},
     "output_type": "execute_result"
    }
   ],
   "source": [
    "arr1=arr2 = [12,11,13,5,6]\n",
    "insertionSortRecursive(arr1, len(arr1)),  insertionSortIterative(arr2)\n",
    "arr1 , arr2\n"
   ]
  },
  {
   "cell_type": "markdown",
   "id": "4c446ee4",
   "metadata": {},
   "source": [
    "## *Selection sort*\n"
   ]
  },
  {
   "cell_type": "code",
   "execution_count": 130,
   "id": "1ba0e4b9",
   "metadata": {},
   "outputs": [],
   "source": [
    "def selectsortiter(A):\n",
    "    for i in range(len(A)):\n",
    "        min_idx = i\n",
    "        for j in range(i+1, len(A)):\n",
    "            if A[min_idx] > A[j]:\n",
    "                min_idx = j\n",
    "\n",
    "        #Swapping\n",
    "        A[i], A[min_idx] = A[min_idx], A[i]"
   ]
  },
  {
   "cell_type": "code",
   "execution_count": 132,
   "id": "8f61c4d9",
   "metadata": {},
   "outputs": [
    {
     "name": "stdout",
     "output_type": "stream",
     "text": [
      "[5, 6, 11, 12, 13]\n"
     ]
    }
   ],
   "source": [
    "arr2 = [12,11,13,5,6]\n",
    "selectsortiter(arr2)\n",
    "print(arr2)"
   ]
  },
  {
   "cell_type": "code",
   "execution_count": 135,
   "id": "1a832d46",
   "metadata": {},
   "outputs": [],
   "source": [
    "def minIndex( a , i , j ):\n",
    "    if i == j:\n",
    "        return i\n",
    "    k = minIndex(a, i + 1, j)\n",
    "    return (i if a[i] < a[k] else k)\n",
    "\n",
    "def recurSelectionSort(a, n, index = 0):\n",
    "    if index == n:\n",
    "        return -1\n",
    "         \n",
    "    k = minIndex(a, index, n-1)\n",
    "     \n",
    "    if k != index:\n",
    "        a[k], a[index] = a[index], a[k]\n",
    "         \n",
    "    recurSelectionSort(a, n, index + 1)\n",
    "    \n",
    "    "
   ]
  },
  {
   "cell_type": "code",
   "execution_count": 138,
   "id": "4baa45e4",
   "metadata": {},
   "outputs": [
    {
     "name": "stdout",
     "output_type": "stream",
     "text": [
      "[5, 6, 11, 12, 13]\n"
     ]
    }
   ],
   "source": [
    "arr2 = [12,11,13,5,6]\n",
    "recurSelectionSort(arr2, len(arr2))\n",
    "print(arr2)"
   ]
  },
  {
   "cell_type": "markdown",
   "id": "9bed0ed0",
   "metadata": {},
   "source": [
    "## *Bubble sort*\n"
   ]
  },
  {
   "cell_type": "code",
   "execution_count": 177,
   "id": "8434e76f",
   "metadata": {},
   "outputs": [],
   "source": [
    "def bobsort(arr):\n",
    "    case = True # in case the array is sorted already\n",
    "    \n",
    "    for i in range(len(arr)-1):\n",
    "        for j in range(len(arr)-i-1):\n",
    "            if(arr[j] > arr[j+1]):\n",
    "                case = False # change our case of already sorted\n",
    "                arr[j], arr[j+1] = arr[j+1], arr[j]\n",
    "        if case == True: break\n",
    "                \n",
    "            "
   ]
  },
  {
   "cell_type": "code",
   "execution_count": 178,
   "id": "6dfa4f69",
   "metadata": {},
   "outputs": [
    {
     "name": "stdout",
     "output_type": "stream",
     "text": [
      "[5, 6, 11, 12, 13]\n"
     ]
    }
   ],
   "source": [
    "arr2 = [12,11,13,5,6]\n",
    "bobsort(arr2)\n",
    "print(arr2)"
   ]
  },
  {
   "cell_type": "markdown",
   "id": "c1bf0aba",
   "metadata": {},
   "source": [
    "## *GCD*\n"
   ]
  },
  {
   "cell_type": "code",
   "execution_count": 181,
   "id": "d15a90ed",
   "metadata": {},
   "outputs": [],
   "source": [
    "def gcd(x,y):\n",
    "    small = min(x,y)\n",
    "    for i in range(1,small+1):\n",
    "        if(x%i == 0) and (y%i == 0):\n",
    "            my_gcd = i\n",
    "    return my_gcd\n",
    "\n",
    "#*********************************#\n",
    "\n",
    "def gcdecludian(x,y):\n",
    "    if (y==0): return x\n",
    "    else:\n",
    "        return gcdecludian(y , x%y)"
   ]
  },
  {
   "cell_type": "code",
   "execution_count": 182,
   "id": "b2d30c83",
   "metadata": {},
   "outputs": [
    {
     "data": {
      "text/plain": [
       "(2, 2)"
      ]
     },
     "execution_count": 182,
     "metadata": {},
     "output_type": "execute_result"
    }
   ],
   "source": [
    "gcd(4,10) , gcdecludian(4,10)"
   ]
  },
  {
   "cell_type": "code",
   "execution_count": null,
   "id": "6afc69c0",
   "metadata": {},
   "outputs": [],
   "source": []
  }
 ],
 "metadata": {
  "kernelspec": {
   "display_name": "Python 3 (ipykernel)",
   "language": "python",
   "name": "python3"
  },
  "language_info": {
   "codemirror_mode": {
    "name": "ipython",
    "version": 3
   },
   "file_extension": ".py",
   "mimetype": "text/x-python",
   "name": "python",
   "nbconvert_exporter": "python",
   "pygments_lexer": "ipython3",
   "version": "3.9.7"
  }
 },
 "nbformat": 4,
 "nbformat_minor": 5
}
