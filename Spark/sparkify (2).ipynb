{
 "cells": [
  {
   "cell_type": "code",
   "execution_count": 1,
   "id": "66d6c7ae-3f83-4ec7-9159-6d30c50a5a46",
   "metadata": {
    "execution": {
     "iopub.execute_input": "2022-10-17T00:31:08.870638Z",
     "iopub.status.busy": "2022-10-17T00:31:08.870294Z",
     "iopub.status.idle": "2022-10-17T00:31:34.442687Z",
     "shell.execute_reply": "2022-10-17T00:31:34.440067Z",
     "shell.execute_reply.started": "2022-10-17T00:31:08.870608Z"
    }
   },
   "outputs": [
    {
     "data": {
      "application/vnd.jupyter.widget-view+json": {
       "model_id": "3208389a5e5f4d1ebbae06aa1ad3d829",
       "version_major": 2,
       "version_minor": 0
      },
      "text/plain": [
       "VBox()"
      ]
     },
     "metadata": {},
     "output_type": "display_data"
    },
    {
     "name": "stdout",
     "output_type": "stream",
     "text": [
      "Starting Spark application\n"
     ]
    },
    {
     "data": {
      "text/html": [
       "<table>\n",
       "<tr><th>ID</th><th>YARN Application ID</th><th>Kind</th><th>State</th><th>Spark UI</th><th>Driver log</th><th>Current session?</th></tr><tr><td>0</td><td>application_1665966288284_0001</td><td>pyspark</td><td>idle</td><td><a target=\"_blank\" href=\"http://ip-172-31-43-16.us-east-2.compute.internal:20888/proxy/application_1665966288284_0001/\">Link</a></td><td><a target=\"_blank\" href=\"http://ip-172-31-40-230.us-east-2.compute.internal:8042/node/containerlogs/container_1665966288284_0001_01_000001/livy\">Link</a></td><td>✔</td></tr></table>"
      ],
      "text/plain": [
       "<IPython.core.display.HTML object>"
      ]
     },
     "metadata": {},
     "output_type": "display_data"
    },
    {
     "data": {
      "application/vnd.jupyter.widget-view+json": {
       "model_id": "",
       "version_major": 2,
       "version_minor": 0
      },
      "text/plain": [
       "FloatProgress(value=0.0, bar_style='info', description='Progress:', layout=Layout(height='25px', width='50%'),…"
      ]
     },
     "metadata": {},
     "output_type": "display_data"
    },
    {
     "name": "stdout",
     "output_type": "stream",
     "text": [
      "SparkSession available as 'spark'.\n"
     ]
    },
    {
     "data": {
      "application/vnd.jupyter.widget-view+json": {
       "model_id": "",
       "version_major": 2,
       "version_minor": 0
      },
      "text/plain": [
       "FloatProgress(value=0.0, bar_style='info', description='Progress:', layout=Layout(height='25px', width='50%'),…"
      ]
     },
     "metadata": {},
     "output_type": "display_data"
    },
    {
     "name": "stdout",
     "output_type": "stream",
     "text": [
      "<pyspark.sql.session.SparkSession object at 0x7f983453efd0>"
     ]
    }
   ],
   "source": [
    "spark"
   ]
  },
  {
   "cell_type": "code",
   "execution_count": 15,
   "id": "e6804e93-92b0-41c3-8c3e-2a69b0a294be",
   "metadata": {
    "execution": {
     "iopub.execute_input": "2022-10-17T00:35:37.566922Z",
     "iopub.status.busy": "2022-10-17T00:35:37.566237Z",
     "iopub.status.idle": "2022-10-17T00:35:37.893409Z",
     "shell.execute_reply": "2022-10-17T00:35:37.892385Z",
     "shell.execute_reply.started": "2022-10-17T00:35:37.566885Z"
    },
    "tags": []
   },
   "outputs": [
    {
     "data": {
      "application/vnd.jupyter.widget-view+json": {
       "model_id": "c9ca22892ac24ffa9c8875d58ac07f24",
       "version_major": 2,
       "version_minor": 0
      },
      "text/plain": [
       "VBox()"
      ]
     },
     "metadata": {},
     "output_type": "display_data"
    },
    {
     "data": {
      "application/vnd.jupyter.widget-view+json": {
       "model_id": "",
       "version_major": 2,
       "version_minor": 0
      },
      "text/plain": [
       "FloatProgress(value=0.0, bar_style='info', description='Progress:', layout=Layout(height='25px', width='50%'),…"
      ]
     },
     "metadata": {},
     "output_type": "display_data"
    }
   ],
   "source": [
    "import configparser\n",
    "from datetime import datetime\n",
    "import os, time\n",
    "from pyspark.sql.functions import *\n",
    "from pyspark.sql import SparkSession\n",
    "from pyspark.sql.functions import udf, col, unix_timestamp,lit\n",
    "from pyspark.sql.functions import year, month, dayofmonth, hour, weekofyear, date_format,dayofweek\n",
    "from io import StringIO\n",
    "from zipfile import ZipFile\n",
    "# import pandas as pd\n",
    "from pyspark.sql.types import StructType as R, StructField as Fld, DoubleType as Dbl, StringType as Str, IntegerType as Int, DateType as Date\n"
   ]
  },
  {
   "cell_type": "code",
   "execution_count": 11,
   "id": "2546114d-52b2-4cd0-9e95-2e027bfccafe",
   "metadata": {
    "execution": {
     "iopub.execute_input": "2022-10-17T00:34:55.716597Z",
     "iopub.status.busy": "2022-10-17T00:34:55.716208Z",
     "iopub.status.idle": "2022-10-17T00:34:56.052578Z",
     "shell.execute_reply": "2022-10-17T00:34:56.051595Z",
     "shell.execute_reply.started": "2022-10-17T00:34:55.716564Z"
    },
    "tags": []
   },
   "outputs": [
    {
     "data": {
      "application/vnd.jupyter.widget-view+json": {
       "model_id": "0d83e19175d14e4697838987cf30fa90",
       "version_major": 2,
       "version_minor": 0
      },
      "text/plain": [
       "VBox()"
      ]
     },
     "metadata": {},
     "output_type": "display_data"
    },
    {
     "data": {
      "application/vnd.jupyter.widget-view+json": {
       "model_id": "",
       "version_major": 2,
       "version_minor": 0
      },
      "text/plain": [
       "FloatProgress(value=0.0, bar_style='info', description='Progress:', layout=Layout(height='25px', width='50%'),…"
      ]
     },
     "metadata": {},
     "output_type": "display_data"
    }
   ],
   "source": [
    "config = configparser.ConfigParser()\n",
    "config.read('dl.cfg')\n",
    "\n",
    "os.environ['AWS_ACCESS_KEY_ID']= ''\n",
    "os.environ['AWS_SECRET_ACCESS_KEY']= ''"
   ]
  },
  {
   "cell_type": "code",
   "execution_count": 13,
   "id": "4782ed2a-a0a7-41bb-b2c2-b58857736b3e",
   "metadata": {
    "execution": {
     "iopub.execute_input": "2022-10-17T00:35:17.310100Z",
     "iopub.status.busy": "2022-10-17T00:35:17.309774Z",
     "iopub.status.idle": "2022-10-17T00:35:18.300744Z",
     "shell.execute_reply": "2022-10-17T00:35:18.299003Z",
     "shell.execute_reply.started": "2022-10-17T00:35:17.310070Z"
    },
    "tags": []
   },
   "outputs": [
    {
     "data": {
      "application/vnd.jupyter.widget-view+json": {
       "model_id": "505eddf33f8245c9a0cfb29946c5d2b6",
       "version_major": 2,
       "version_minor": 0
      },
      "text/plain": [
       "VBox()"
      ]
     },
     "metadata": {},
     "output_type": "display_data"
    },
    {
     "data": {
      "application/vnd.jupyter.widget-view+json": {
       "model_id": "",
       "version_major": 2,
       "version_minor": 0
      },
      "text/plain": [
       "FloatProgress(value=0.0, bar_style='info', description='Progress:', layout=Layout(height='25px', width='50%'),…"
      ]
     },
     "metadata": {},
     "output_type": "display_data"
    }
   ],
   "source": [
    "spark = SparkSession.builder\\\n",
    "                     .config(\"spark.jars.packages\",\"org.apache.hadoop:hadoop-aws:2.7.0\")\\\n",
    "                     .getOrCreate()"
   ]
  },
  {
   "cell_type": "code",
   "execution_count": 16,
   "id": "66c2fd49-73e9-4818-b103-8567858fadca",
   "metadata": {
    "execution": {
     "iopub.execute_input": "2022-10-17T00:35:40.877049Z",
     "iopub.status.busy": "2022-10-17T00:35:40.876413Z",
     "iopub.status.idle": "2022-10-17T00:35:41.163671Z",
     "shell.execute_reply": "2022-10-17T00:35:41.162823Z",
     "shell.execute_reply.started": "2022-10-17T00:35:40.877009Z"
    },
    "tags": []
   },
   "outputs": [
    {
     "data": {
      "application/vnd.jupyter.widget-view+json": {
       "model_id": "707a979087a847f3a85661a2f8984cee",
       "version_major": 2,
       "version_minor": 0
      },
      "text/plain": [
       "VBox()"
      ]
     },
     "metadata": {},
     "output_type": "display_data"
    },
    {
     "data": {
      "application/vnd.jupyter.widget-view+json": {
       "model_id": "",
       "version_major": 2,
       "version_minor": 0
      },
      "text/plain": [
       "FloatProgress(value=0.0, bar_style='info', description='Progress:', layout=Layout(height='25px', width='50%'),…"
      ]
     },
     "metadata": {},
     "output_type": "display_data"
    }
   ],
   "source": [
    "#create new schema to add during reading our data\n",
    "Schema = R([\n",
    "    Fld(\"artist_id\",Str()),\n",
    "    Fld(\"artist_latitude\",Dbl()),\n",
    "    Fld(\"artist_location\",Str()),\n",
    "    Fld(\"artist_longitude\",Dbl()),\n",
    "    Fld(\"artist_name\",Str()),\n",
    "    Fld(\"duration\",Dbl()),\n",
    "    Fld(\"num_songs\",Dbl()),\n",
    "    Fld(\"song_id\",Str()),\n",
    "    Fld(\"title\",Str()),\n",
    "    Fld(\"year\",Int()),\n",
    "])"
   ]
  },
  {
   "cell_type": "code",
   "execution_count": 17,
   "id": "d57d2b56-9c90-4c3f-be76-d6cc51e05ba1",
   "metadata": {
    "execution": {
     "iopub.execute_input": "2022-10-17T00:35:56.924259Z",
     "iopub.status.busy": "2022-10-17T00:35:56.923919Z",
     "iopub.status.idle": "2022-10-17T00:36:02.518950Z",
     "shell.execute_reply": "2022-10-17T00:36:02.517835Z",
     "shell.execute_reply.started": "2022-10-17T00:35:56.924227Z"
    }
   },
   "outputs": [
    {
     "data": {
      "application/vnd.jupyter.widget-view+json": {
       "model_id": "074932fa6c574d6db97abc3ee2620652",
       "version_major": 2,
       "version_minor": 0
      },
      "text/plain": [
       "VBox()"
      ]
     },
     "metadata": {},
     "output_type": "display_data"
    },
    {
     "data": {
      "application/vnd.jupyter.widget-view+json": {
       "model_id": "",
       "version_major": 2,
       "version_minor": 0
      },
      "text/plain": [
       "FloatProgress(value=0.0, bar_style='info', description='Progress:', layout=Layout(height='25px', width='50%'),…"
      ]
     },
     "metadata": {},
     "output_type": "display_data"
    }
   ],
   "source": [
    "# get filepath to song data file\n",
    "\n",
    "input_data = \"s3a://udacity-dend/\"\n",
    "song_data = input_data + 'song_data/A/A/A/*.json'\n",
    "df = spark.read.json(song_data, schema = Schema)"
   ]
  },
  {
   "cell_type": "code",
   "execution_count": 18,
   "id": "a2cdd8ee-6851-44d3-8e76-38ff0900c2e3",
   "metadata": {
    "execution": {
     "iopub.execute_input": "2022-10-17T00:36:13.731728Z",
     "iopub.status.busy": "2022-10-17T00:36:13.731365Z",
     "iopub.status.idle": "2022-10-17T00:36:14.064205Z",
     "shell.execute_reply": "2022-10-17T00:36:14.063198Z",
     "shell.execute_reply.started": "2022-10-17T00:36:13.731694Z"
    }
   },
   "outputs": [
    {
     "data": {
      "application/vnd.jupyter.widget-view+json": {
       "model_id": "b6f52c9264d8403988e2040b1ce8ea9e",
       "version_major": 2,
       "version_minor": 0
      },
      "text/plain": [
       "VBox()"
      ]
     },
     "metadata": {},
     "output_type": "display_data"
    },
    {
     "data": {
      "application/vnd.jupyter.widget-view+json": {
       "model_id": "",
       "version_major": 2,
       "version_minor": 0
      },
      "text/plain": [
       "FloatProgress(value=0.0, bar_style='info', description='Progress:', layout=Layout(height='25px', width='50%'),…"
      ]
     },
     "metadata": {},
     "output_type": "display_data"
    },
    {
     "name": "stdout",
     "output_type": "stream",
     "text": [
      "root\n",
      " |-- artist_id: string (nullable = true)\n",
      " |-- artist_latitude: double (nullable = true)\n",
      " |-- artist_location: string (nullable = true)\n",
      " |-- artist_longitude: double (nullable = true)\n",
      " |-- artist_name: string (nullable = true)\n",
      " |-- duration: double (nullable = true)\n",
      " |-- num_songs: double (nullable = true)\n",
      " |-- song_id: string (nullable = true)\n",
      " |-- title: string (nullable = true)\n",
      " |-- year: integer (nullable = true)"
     ]
    }
   ],
   "source": [
    "df.printSchema()"
   ]
  },
  {
   "cell_type": "code",
   "execution_count": 19,
   "id": "6c23f058-8d0c-4822-ab33-3225d179cc37",
   "metadata": {
    "execution": {
     "iopub.execute_input": "2022-10-17T00:36:26.025445Z",
     "iopub.status.busy": "2022-10-17T00:36:26.025104Z",
     "iopub.status.idle": "2022-10-17T00:36:26.578208Z",
     "shell.execute_reply": "2022-10-17T00:36:26.577288Z",
     "shell.execute_reply.started": "2022-10-17T00:36:26.025413Z"
    }
   },
   "outputs": [
    {
     "data": {
      "application/vnd.jupyter.widget-view+json": {
       "model_id": "2939a884f511443ca67b0c9d1d4d6680",
       "version_major": 2,
       "version_minor": 0
      },
      "text/plain": [
       "VBox()"
      ]
     },
     "metadata": {},
     "output_type": "display_data"
    },
    {
     "data": {
      "application/vnd.jupyter.widget-view+json": {
       "model_id": "",
       "version_major": 2,
       "version_minor": 0
      },
      "text/plain": [
       "FloatProgress(value=0.0, bar_style='info', description='Progress:', layout=Layout(height='25px', width='50%'),…"
      ]
     },
     "metadata": {},
     "output_type": "display_data"
    }
   ],
   "source": [
    "# extract columns to create songs table\n",
    "songs_table = df.select(['song_id','title','year','artist_id','duration'])\n",
    "# extract columns to create artists table\n",
    "artists_table = df.select(['artist_id', 'artist_name','artist_latitude','artist_location','artist_longitude', ])"
   ]
  },
  {
   "cell_type": "code",
   "execution_count": 25,
   "id": "d058d81a-d824-4478-8c2d-1e5a5916a3c4",
   "metadata": {
    "execution": {
     "iopub.execute_input": "2022-10-17T00:42:14.206264Z",
     "iopub.status.busy": "2022-10-17T00:42:14.205895Z",
     "iopub.status.idle": "2022-10-17T00:42:42.268101Z",
     "shell.execute_reply": "2022-10-17T00:42:42.266991Z",
     "shell.execute_reply.started": "2022-10-17T00:42:14.206232Z"
    },
    "tags": []
   },
   "outputs": [
    {
     "data": {
      "application/vnd.jupyter.widget-view+json": {
       "model_id": "4183cced322e4decabf7abea0037138c",
       "version_major": 2,
       "version_minor": 0
      },
      "text/plain": [
       "VBox()"
      ]
     },
     "metadata": {},
     "output_type": "display_data"
    },
    {
     "data": {
      "application/vnd.jupyter.widget-view+json": {
       "model_id": "",
       "version_major": 2,
       "version_minor": 0
      },
      "text/plain": [
       "FloatProgress(value=0.0, bar_style='info', description='Progress:', layout=Layout(height='25px', width='50%'),…"
      ]
     },
     "metadata": {},
     "output_type": "display_data"
    }
   ],
   "source": [
    "output_data = \"s3a://datalake-result/\"\n",
    " # write artists table to parquet files\n",
    "artists_table.write.parquet(output_data + 'artists/')\n",
    "# write songs table to parquet files partitioned by year and artist\n",
    "songs_table.write.partitionBy(\"year\", \"artist_id\").parquet(output_data + 'songs/')\n"
   ]
  },
  {
   "cell_type": "code",
   "execution_count": 26,
   "id": "50d03389-9484-4261-8325-e3d57022ac13",
   "metadata": {
    "execution": {
     "iopub.execute_input": "2022-10-17T00:42:54.880204Z",
     "iopub.status.busy": "2022-10-17T00:42:54.879806Z",
     "iopub.status.idle": "2022-10-17T00:43:06.588237Z",
     "shell.execute_reply": "2022-10-17T00:43:06.587066Z",
     "shell.execute_reply.started": "2022-10-17T00:42:54.880166Z"
    }
   },
   "outputs": [
    {
     "data": {
      "application/vnd.jupyter.widget-view+json": {
       "model_id": "745b7f3c47454e50994830c20ccaf9b0",
       "version_major": 2,
       "version_minor": 0
      },
      "text/plain": [
       "VBox()"
      ]
     },
     "metadata": {},
     "output_type": "display_data"
    },
    {
     "data": {
      "application/vnd.jupyter.widget-view+json": {
       "model_id": "",
       "version_major": 2,
       "version_minor": 0
      },
      "text/plain": [
       "FloatProgress(value=0.0, bar_style='info', description='Progress:', layout=Layout(height='25px', width='50%'),…"
      ]
     },
     "metadata": {},
     "output_type": "display_data"
    }
   ],
   "source": [
    " # read log data file\n",
    "log_data = 's3a://udacity-dend/log_data/*/*/*.json'\n",
    "df_logs = spark.read.json(log_data)"
   ]
  },
  {
   "cell_type": "code",
   "execution_count": 27,
   "id": "ba2d1e89-fca7-432c-a797-754835a87af4",
   "metadata": {
    "execution": {
     "iopub.execute_input": "2022-10-17T00:43:22.362608Z",
     "iopub.status.busy": "2022-10-17T00:43:22.356085Z",
     "iopub.status.idle": "2022-10-17T00:43:22.885987Z",
     "shell.execute_reply": "2022-10-17T00:43:22.884762Z",
     "shell.execute_reply.started": "2022-10-17T00:43:22.362436Z"
    }
   },
   "outputs": [
    {
     "data": {
      "application/vnd.jupyter.widget-view+json": {
       "model_id": "7d9a8e26dd3a4e95b704967f9f765e51",
       "version_major": 2,
       "version_minor": 0
      },
      "text/plain": [
       "VBox()"
      ]
     },
     "metadata": {},
     "output_type": "display_data"
    },
    {
     "data": {
      "application/vnd.jupyter.widget-view+json": {
       "model_id": "",
       "version_major": 2,
       "version_minor": 0
      },
      "text/plain": [
       "FloatProgress(value=0.0, bar_style='info', description='Progress:', layout=Layout(height='25px', width='50%'),…"
      ]
     },
     "metadata": {},
     "output_type": "display_data"
    }
   ],
   "source": [
    "# filter by actions for song plays\n",
    "df_logs = df_logs.filter(\"page == 'NextSong'\").dropDuplicates()"
   ]
  },
  {
   "cell_type": "code",
   "execution_count": 28,
   "id": "97d9fdae-d236-42b4-9f3c-e84c17c960c6",
   "metadata": {
    "execution": {
     "iopub.execute_input": "2022-10-17T00:43:41.847405Z",
     "iopub.status.busy": "2022-10-17T00:43:41.847060Z",
     "iopub.status.idle": "2022-10-17T00:43:42.150456Z",
     "shell.execute_reply": "2022-10-17T00:43:42.149362Z",
     "shell.execute_reply.started": "2022-10-17T00:43:41.847372Z"
    }
   },
   "outputs": [
    {
     "data": {
      "application/vnd.jupyter.widget-view+json": {
       "model_id": "bfbe19e2c6d14bfaadc80cb0e0c81922",
       "version_major": 2,
       "version_minor": 0
      },
      "text/plain": [
       "VBox()"
      ]
     },
     "metadata": {},
     "output_type": "display_data"
    },
    {
     "data": {
      "application/vnd.jupyter.widget-view+json": {
       "model_id": "",
       "version_major": 2,
       "version_minor": 0
      },
      "text/plain": [
       "FloatProgress(value=0.0, bar_style='info', description='Progress:', layout=Layout(height='25px', width='50%'),…"
      ]
     },
     "metadata": {},
     "output_type": "display_data"
    }
   ],
   "source": [
    "user_table = df_logs.select(['firstName','gender','userId','level','lastName']).dropDuplicates()"
   ]
  },
  {
   "cell_type": "code",
   "execution_count": 29,
   "id": "f3b1dd96-1745-4786-be02-0512d2beaf68",
   "metadata": {
    "execution": {
     "iopub.execute_input": "2022-10-17T00:43:59.164174Z",
     "iopub.status.busy": "2022-10-17T00:43:59.163841Z",
     "iopub.status.idle": "2022-10-17T00:45:07.796479Z",
     "shell.execute_reply": "2022-10-17T00:45:07.795208Z",
     "shell.execute_reply.started": "2022-10-17T00:43:59.164142Z"
    },
    "tags": []
   },
   "outputs": [
    {
     "data": {
      "application/vnd.jupyter.widget-view+json": {
       "model_id": "1fd9460dfd874bb08de5a3a4f060158f",
       "version_major": 2,
       "version_minor": 0
      },
      "text/plain": [
       "VBox()"
      ]
     },
     "metadata": {},
     "output_type": "display_data"
    },
    {
     "data": {
      "application/vnd.jupyter.widget-view+json": {
       "model_id": "",
       "version_major": 2,
       "version_minor": 0
      },
      "text/plain": [
       "FloatProgress(value=0.0, bar_style='info', description='Progress:', layout=Layout(height='25px', width='50%'),…"
      ]
     },
     "metadata": {},
     "output_type": "display_data"
    }
   ],
   "source": [
    "user_table.write.parquet(output_data + 'users/')\n"
   ]
  },
  {
   "cell_type": "code",
   "execution_count": 30,
   "id": "04e7fbf6-e790-4eb5-8810-00e2dd825ce3",
   "metadata": {
    "execution": {
     "iopub.execute_input": "2022-10-17T00:45:07.799384Z",
     "iopub.status.busy": "2022-10-17T00:45:07.799026Z",
     "iopub.status.idle": "2022-10-17T00:45:08.079455Z",
     "shell.execute_reply": "2022-10-17T00:45:08.077664Z",
     "shell.execute_reply.started": "2022-10-17T00:45:07.799344Z"
    }
   },
   "outputs": [
    {
     "data": {
      "application/vnd.jupyter.widget-view+json": {
       "model_id": "c9f732a3f0354e77a4ce71112fe33dfa",
       "version_major": 2,
       "version_minor": 0
      },
      "text/plain": [
       "VBox()"
      ]
     },
     "metadata": {},
     "output_type": "display_data"
    },
    {
     "data": {
      "application/vnd.jupyter.widget-view+json": {
       "model_id": "",
       "version_major": 2,
       "version_minor": 0
      },
      "text/plain": [
       "FloatProgress(value=0.0, bar_style='info', description='Progress:', layout=Layout(height='25px', width='50%'),…"
      ]
     },
     "metadata": {},
     "output_type": "display_data"
    }
   ],
   "source": [
    "get_timestamp = udf(lambda x: datetime.fromtimestamp(x / 1000.0))\n",
    "new_df_logs =df_logs.withColumn(\"timestamp\",get_timestamp(df_logs.ts))"
   ]
  },
  {
   "cell_type": "code",
   "execution_count": 31,
   "id": "9e820a72-814e-41b7-aaa5-3ff684f91f0d",
   "metadata": {
    "execution": {
     "iopub.execute_input": "2022-10-17T00:45:23.611929Z",
     "iopub.status.busy": "2022-10-17T00:45:23.611600Z",
     "iopub.status.idle": "2022-10-17T00:45:24.131470Z",
     "shell.execute_reply": "2022-10-17T00:45:24.130592Z",
     "shell.execute_reply.started": "2022-10-17T00:45:23.611897Z"
    }
   },
   "outputs": [
    {
     "data": {
      "application/vnd.jupyter.widget-view+json": {
       "model_id": "a92f9c9800834cc79f6eb630fa92c909",
       "version_major": 2,
       "version_minor": 0
      },
      "text/plain": [
       "VBox()"
      ]
     },
     "metadata": {},
     "output_type": "display_data"
    },
    {
     "data": {
      "application/vnd.jupyter.widget-view+json": {
       "model_id": "",
       "version_major": 2,
       "version_minor": 0
      },
      "text/plain": [
       "FloatProgress(value=0.0, bar_style='info', description='Progress:', layout=Layout(height='25px', width='50%'),…"
      ]
     },
     "metadata": {},
     "output_type": "display_data"
    }
   ],
   "source": [
    "pattern = r'(?:.*)YEAR=(\\d+).+?MONTH=(\\d+).+?DAY_OF_MONTH=(\\d+).+?HOUR=(\\d+).+?MINUTE=(\\d+).+?SECOND=(\\d+).+'\n",
    "new_df_logs = new_df_logs.withColumn('timest', regexp_replace('timestamp', pattern, '$1-$2-$3 $4:$5:$6').cast('timestamp'))"
   ]
  },
  {
   "cell_type": "code",
   "execution_count": 32,
   "id": "35f4fd09-7564-40ea-80c0-26055f4d68ba",
   "metadata": {
    "execution": {
     "iopub.execute_input": "2022-10-17T00:45:34.546727Z",
     "iopub.status.busy": "2022-10-17T00:45:34.546383Z",
     "iopub.status.idle": "2022-10-17T00:45:34.868663Z",
     "shell.execute_reply": "2022-10-17T00:45:34.867571Z",
     "shell.execute_reply.started": "2022-10-17T00:45:34.546696Z"
    }
   },
   "outputs": [
    {
     "data": {
      "application/vnd.jupyter.widget-view+json": {
       "model_id": "2f4c2b5b789b4646aa11129799cdd331",
       "version_major": 2,
       "version_minor": 0
      },
      "text/plain": [
       "VBox()"
      ]
     },
     "metadata": {},
     "output_type": "display_data"
    },
    {
     "data": {
      "application/vnd.jupyter.widget-view+json": {
       "model_id": "",
       "version_major": 2,
       "version_minor": 0
      },
      "text/plain": [
       "FloatProgress(value=0.0, bar_style='info', description='Progress:', layout=Layout(height='25px', width='50%'),…"
      ]
     },
     "metadata": {},
     "output_type": "display_data"
    }
   ],
   "source": [
    "new_df_logs = new_df_logs.withColumn('month',month(new_df_logs.timest))\\\n",
    ".withColumn(\"hour\",hour(new_df_logs.timest))\\\n",
    ".withColumn(\"year\",year(new_df_logs.timest))\\\n",
    ".withColumn(\"day\",dayofmonth(new_df_logs.timest))\\\n",
    ".withColumn(\"week\",weekofyear(new_df_logs.timest))\\\n",
    ".withColumn('weekday', dayofweek('timest'))"
   ]
  },
  {
   "cell_type": "code",
   "execution_count": 33,
   "id": "073fd213-3ee6-4133-a6fc-23bbb2f8f054",
   "metadata": {
    "execution": {
     "iopub.execute_input": "2022-10-17T00:45:45.497683Z",
     "iopub.status.busy": "2022-10-17T00:45:45.497330Z",
     "iopub.status.idle": "2022-10-17T00:45:45.853250Z",
     "shell.execute_reply": "2022-10-17T00:45:45.851988Z",
     "shell.execute_reply.started": "2022-10-17T00:45:45.497652Z"
    }
   },
   "outputs": [
    {
     "data": {
      "application/vnd.jupyter.widget-view+json": {
       "model_id": "63e62fc77cce482ea7b401455c31ffbf",
       "version_major": 2,
       "version_minor": 0
      },
      "text/plain": [
       "VBox()"
      ]
     },
     "metadata": {},
     "output_type": "display_data"
    },
    {
     "data": {
      "application/vnd.jupyter.widget-view+json": {
       "model_id": "",
       "version_major": 2,
       "version_minor": 0
      },
      "text/plain": [
       "FloatProgress(value=0.0, bar_style='info', description='Progress:', layout=Layout(height='25px', width='50%'),…"
      ]
     },
     "metadata": {},
     "output_type": "display_data"
    }
   ],
   "source": [
    "time_table = new_df_logs.select([\"timest\"]).dropDuplicates()\\\n",
    ".withColumn(\"hour\",hour(new_df_logs.timest))\\\n",
    ".withColumn(\"month\",month(new_df_logs.timest))\\\n",
    ".withColumn(\"year\",year(new_df_logs.timest))\\\n",
    ".withColumn(\"day\",dayofmonth(new_df_logs.timest))\\\n",
    ".withColumn(\"week\",weekofyear(new_df_logs.timest))\\\n",
    ".withColumn('weekday', dayofweek('timest'))\n"
   ]
  },
  {
   "cell_type": "code",
   "execution_count": 36,
   "id": "369ca4ce-630d-47fd-a6b3-8d71e2dc35f5",
   "metadata": {
    "execution": {
     "iopub.execute_input": "2022-10-17T00:53:11.720619Z",
     "iopub.status.busy": "2022-10-17T00:53:11.720288Z",
     "iopub.status.idle": "2022-10-17T00:53:35.826678Z",
     "shell.execute_reply": "2022-10-17T00:53:35.825568Z",
     "shell.execute_reply.started": "2022-10-17T00:53:11.720587Z"
    }
   },
   "outputs": [
    {
     "data": {
      "application/vnd.jupyter.widget-view+json": {
       "model_id": "a6f6361f9ec04cdbb352d86624862541",
       "version_major": 2,
       "version_minor": 0
      },
      "text/plain": [
       "VBox()"
      ]
     },
     "metadata": {},
     "output_type": "display_data"
    },
    {
     "data": {
      "application/vnd.jupyter.widget-view+json": {
       "model_id": "",
       "version_major": 2,
       "version_minor": 0
      },
      "text/plain": [
       "FloatProgress(value=0.0, bar_style='info', description='Progress:', layout=Layout(height='25px', width='50%'),…"
      ]
     },
     "metadata": {},
     "output_type": "display_data"
    },
    {
     "name": "stdout",
     "output_type": "stream",
     "text": [
      "+-------------------+----+-----+----+---+----+-------+\n",
      "|             timest|hour|month|year|day|week|weekday|\n",
      "+-------------------+----+-----+----+---+----+-------+\n",
      "|2018-10-02 10:11:24|  10|   10|2018|  2|  40|      3|\n",
      "|2018-10-19 05:33:45|   5|   10|2018| 19|  42|      6|\n",
      "+-------------------+----+-----+----+---+----+-------+\n",
      "only showing top 2 rows"
     ]
    }
   ],
   "source": [
    "time_table.show(2)"
   ]
  },
  {
   "cell_type": "code",
   "execution_count": 38,
   "id": "80643d6b-fc34-4774-bba7-cdb99edab86c",
   "metadata": {
    "execution": {
     "iopub.execute_input": "2022-10-17T00:56:01.640523Z",
     "iopub.status.busy": "2022-10-17T00:56:01.640146Z",
     "iopub.status.idle": "2022-10-17T00:59:46.089435Z",
     "shell.execute_reply": "2022-10-17T00:59:46.088467Z",
     "shell.execute_reply.started": "2022-10-17T00:56:01.640491Z"
    },
    "tags": []
   },
   "outputs": [
    {
     "data": {
      "application/vnd.jupyter.widget-view+json": {
       "model_id": "df14792e792843afa862f3424d3d2685",
       "version_major": 2,
       "version_minor": 0
      },
      "text/plain": [
       "VBox()"
      ]
     },
     "metadata": {},
     "output_type": "display_data"
    },
    {
     "data": {
      "application/vnd.jupyter.widget-view+json": {
       "model_id": "",
       "version_major": 2,
       "version_minor": 0
      },
      "text/plain": [
       "FloatProgress(value=0.0, bar_style='info', description='Progress:', layout=Layout(height='25px', width='50%'),…"
      ]
     },
     "metadata": {},
     "output_type": "display_data"
    }
   ],
   "source": [
    "time_table.write.partitionBy(\"year\", \"month\").parquet(output_data + 'time/')"
   ]
  },
  {
   "cell_type": "code",
   "execution_count": 39,
   "id": "517cf082-4192-40b9-967c-6361d999b97a",
   "metadata": {
    "execution": {
     "iopub.execute_input": "2022-10-17T00:59:46.092502Z",
     "iopub.status.busy": "2022-10-17T00:59:46.092189Z",
     "iopub.status.idle": "2022-10-17T00:59:55.903276Z",
     "shell.execute_reply": "2022-10-17T00:59:55.902263Z",
     "shell.execute_reply.started": "2022-10-17T00:59:46.092473Z"
    },
    "tags": []
   },
   "outputs": [
    {
     "data": {
      "application/vnd.jupyter.widget-view+json": {
       "model_id": "50c2fc95b3e4491b9a51a215e995f4da",
       "version_major": 2,
       "version_minor": 0
      },
      "text/plain": [
       "VBox()"
      ]
     },
     "metadata": {},
     "output_type": "display_data"
    },
    {
     "data": {
      "application/vnd.jupyter.widget-view+json": {
       "model_id": "",
       "version_major": 2,
       "version_minor": 0
      },
      "text/plain": [
       "FloatProgress(value=0.0, bar_style='info', description='Progress:', layout=Layout(height='25px', width='50%'),…"
      ]
     },
     "metadata": {},
     "output_type": "display_data"
    }
   ],
   "source": [
    "song_df = spark.read.parquet(output_data + 'songs/')"
   ]
  },
  {
   "cell_type": "code",
   "execution_count": 40,
   "id": "990080ff-e842-41f1-ba25-9cabed897048",
   "metadata": {
    "execution": {
     "iopub.execute_input": "2022-10-17T01:00:14.388358Z",
     "iopub.status.busy": "2022-10-17T01:00:14.388024Z",
     "iopub.status.idle": "2022-10-17T01:00:17.159425Z",
     "shell.execute_reply": "2022-10-17T01:00:17.157960Z",
     "shell.execute_reply.started": "2022-10-17T01:00:14.388327Z"
    }
   },
   "outputs": [
    {
     "data": {
      "application/vnd.jupyter.widget-view+json": {
       "model_id": "dd329b34dece4e46acd0e7c5f329f385",
       "version_major": 2,
       "version_minor": 0
      },
      "text/plain": [
       "VBox()"
      ]
     },
     "metadata": {},
     "output_type": "display_data"
    },
    {
     "data": {
      "application/vnd.jupyter.widget-view+json": {
       "model_id": "",
       "version_major": 2,
       "version_minor": 0
      },
      "text/plain": [
       "FloatProgress(value=0.0, bar_style='info', description='Progress:', layout=Layout(height='25px', width='50%'),…"
      ]
     },
     "metadata": {},
     "output_type": "display_data"
    },
    {
     "name": "stdout",
     "output_type": "stream",
     "text": [
      "+------------------+--------------------+---------+----+------------------+\n",
      "|           song_id|               title| duration|year|         artist_id|\n",
      "+------------------+--------------------+---------+----+------------------+\n",
      "|SOKTJDS12AF72A25E5|Drown In My Own T...|  192.522|   0|ARA23XO1187B9AF18F|\n",
      "|SOEKAZG12AB018837E|I'll Slap Your Fa...|129.85424|2001|ARSVTNL1187B992A91|\n",
      "+------------------+--------------------+---------+----+------------------+\n",
      "only showing top 2 rows"
     ]
    }
   ],
   "source": [
    "song_df.show(2)"
   ]
  },
  {
   "cell_type": "code",
   "execution_count": 41,
   "id": "3f131caa-305a-4d1f-a056-4fda3e088d78",
   "metadata": {
    "execution": {
     "iopub.execute_input": "2022-10-17T01:00:46.863227Z",
     "iopub.status.busy": "2022-10-17T01:00:46.862882Z",
     "iopub.status.idle": "2022-10-17T01:00:47.173093Z",
     "shell.execute_reply": "2022-10-17T01:00:47.170035Z",
     "shell.execute_reply.started": "2022-10-17T01:00:46.863195Z"
    }
   },
   "outputs": [
    {
     "data": {
      "application/vnd.jupyter.widget-view+json": {
       "model_id": "7335a4bd806146718f0148f2e7f2761a",
       "version_major": 2,
       "version_minor": 0
      },
      "text/plain": [
       "VBox()"
      ]
     },
     "metadata": {},
     "output_type": "display_data"
    },
    {
     "data": {
      "application/vnd.jupyter.widget-view+json": {
       "model_id": "",
       "version_major": 2,
       "version_minor": 0
      },
      "text/plain": [
       "FloatProgress(value=0.0, bar_style='info', description='Progress:', layout=Layout(height='25px', width='50%'),…"
      ]
     },
     "metadata": {},
     "output_type": "display_data"
    }
   ],
   "source": [
    "df10 = song_df.join(artists_table,(song_df.artist_id == artists_table.artist_id))\\\n",
    "        .drop(song_df.artist_id)\\\n",
    "        .drop(song_df.year)\n",
    "df20 = df10.join(new_df_logs,(df10.artist_name == new_df_logs.artist))"
   ]
  },
  {
   "cell_type": "code",
   "execution_count": 42,
   "id": "dcb128c3-616e-4283-a5b3-13fd45b2f5bc",
   "metadata": {
    "execution": {
     "iopub.execute_input": "2022-10-17T01:00:59.340850Z",
     "iopub.status.busy": "2022-10-17T01:00:59.340454Z",
     "iopub.status.idle": "2022-10-17T01:00:59.673485Z",
     "shell.execute_reply": "2022-10-17T01:00:59.672554Z",
     "shell.execute_reply.started": "2022-10-17T01:00:59.340817Z"
    }
   },
   "outputs": [
    {
     "data": {
      "application/vnd.jupyter.widget-view+json": {
       "model_id": "0c2a9d79efa146c6b2e8ae4a6d1b3efe",
       "version_major": 2,
       "version_minor": 0
      },
      "text/plain": [
       "VBox()"
      ]
     },
     "metadata": {},
     "output_type": "display_data"
    },
    {
     "data": {
      "application/vnd.jupyter.widget-view+json": {
       "model_id": "",
       "version_major": 2,
       "version_minor": 0
      },
      "text/plain": [
       "FloatProgress(value=0.0, bar_style='info', description='Progress:', layout=Layout(height='25px', width='50%'),…"
      ]
     },
     "metadata": {},
     "output_type": "display_data"
    }
   ],
   "source": [
    " songplays_table = df20.select(\\\n",
    "    col('timest').alias('start_time'),\n",
    "        col('userId').alias('user_id'),\n",
    "        col('level').alias('level'),\n",
    "        col('song_id').alias('song_id'),\n",
    "        col('artist_id').alias('artist_id'),\n",
    "        col('sessionId').alias('session_id'),\n",
    "        col('location').alias('location'),\n",
    "        col('userAgent').alias('user_agent'),\n",
    "        col('year').alias('year'),\n",
    "        col('month').alias('month'))\\\n",
    "        .repartition(\"year\", \"month\").dropDuplicates()\n"
   ]
  },
  {
   "cell_type": "code",
   "execution_count": 43,
   "id": "57b4f97f-af0f-4692-8915-c24546c2e04c",
   "metadata": {
    "execution": {
     "iopub.execute_input": "2022-10-17T01:01:15.359766Z",
     "iopub.status.busy": "2022-10-17T01:01:15.359367Z",
     "iopub.status.idle": "2022-10-17T01:01:45.931042Z",
     "shell.execute_reply": "2022-10-17T01:01:45.929244Z",
     "shell.execute_reply.started": "2022-10-17T01:01:15.359732Z"
    },
    "tags": []
   },
   "outputs": [
    {
     "data": {
      "application/vnd.jupyter.widget-view+json": {
       "model_id": "a231592ec005473ea5a1153057ec0ea0",
       "version_major": 2,
       "version_minor": 0
      },
      "text/plain": [
       "VBox()"
      ]
     },
     "metadata": {},
     "output_type": "display_data"
    },
    {
     "data": {
      "application/vnd.jupyter.widget-view+json": {
       "model_id": "",
       "version_major": 2,
       "version_minor": 0
      },
      "text/plain": [
       "FloatProgress(value=0.0, bar_style='info', description='Progress:', layout=Layout(height='25px', width='50%'),…"
      ]
     },
     "metadata": {},
     "output_type": "display_data"
    }
   ],
   "source": [
    "songplays_table.write.partitionBy(\"year\", \"month\").parquet(output_data + 'songplays/')"
   ]
  },
  {
   "cell_type": "code",
   "execution_count": 48,
   "id": "ba2e1a83-5dcf-4249-92f7-6b87c9fdd88b",
   "metadata": {
    "execution": {
     "iopub.execute_input": "2022-10-17T01:12:20.020726Z",
     "iopub.status.busy": "2022-10-17T01:12:20.020375Z",
     "iopub.status.idle": "2022-10-17T01:12:20.352382Z",
     "shell.execute_reply": "2022-10-17T01:12:20.351365Z",
     "shell.execute_reply.started": "2022-10-17T01:12:20.020693Z"
    },
    "tags": []
   },
   "outputs": [
    {
     "data": {
      "application/vnd.jupyter.widget-view+json": {
       "model_id": "91af6f07d27444bfbffdd83693f9cc53",
       "version_major": 2,
       "version_minor": 0
      },
      "text/plain": [
       "VBox()"
      ]
     },
     "metadata": {},
     "output_type": "display_data"
    },
    {
     "data": {
      "application/vnd.jupyter.widget-view+json": {
       "model_id": "",
       "version_major": 2,
       "version_minor": 0
      },
      "text/plain": [
       "FloatProgress(value=0.0, bar_style='info', description='Progress:', layout=Layout(height='25px', width='50%'),…"
      ]
     },
     "metadata": {},
     "output_type": "display_data"
    }
   ],
   "source": [
    "def create_spark_session():\n",
    "    spark = SparkSession \\\n",
    "        .builder \\\n",
    "        .config(\"spark.jars.packages\", \"org.apache.hadoop:hadoop-aws:2.7.0\") \\\n",
    "        .getOrCreate()\n",
    "    return spark\n",
    "\n",
    "\n",
    "def process_song_data(spark, input_data, output_data):\n",
    "    \"\"\"\n",
    "    process song data from s3 bucket and redesign with adding some dimension tables.\n",
    "    spark: spark session.\n",
    "    input_data: input path of data to read from\n",
    "    output_data: output path to save \n",
    "    \"\"\"\n",
    "    # get filepath to song data file\n",
    "#     input_data = \"s3a://udacity-dend/\"\n",
    "    song_data = input_data + 'song_data/A/A/A/*.json'\n",
    "    #create new schema to add during reading our data\n",
    "    Schema = R([\n",
    "    Fld(\"artist_id\",Str()),\n",
    "    Fld(\"artist_latitude\",Dbl()),\n",
    "    Fld(\"artist_location\",Str()),\n",
    "    Fld(\"artist_longitude\",Dbl()),\n",
    "    Fld(\"artist_name\",Str()),\n",
    "    Fld(\"duration\",Dbl()),\n",
    "    Fld(\"num_songs\",Dbl()),\n",
    "    Fld(\"song_id\",Str()),\n",
    "    Fld(\"title\",Str()),\n",
    "    Fld(\"year\",Int()),\n",
    "    ])\n",
    "    \n",
    "    # read song data file\n",
    "    df = spark.read.json(song_data, schema = Schema)\n",
    "\n",
    "    # extract columns to create songs table\n",
    "    songs_table = df.select(['song_id','title','year','artist_id','duration']).dropDuplicates()\n",
    "    \n",
    "    # write songs table to parquet files partitioned by year and artist\n",
    "    songs_table.write.parquet(output_data +'songs/')\n",
    "\n",
    "    # extract columns to create artists table\n",
    "    artists_table = df.select(['artist_id', 'artist_name','artist_latitude','artist_location','artist_longitude'])\n",
    "    \n",
    "    # write artists table to parquet files\n",
    "    artists_table.write.parquet(output_data + 'artists/')\n"
   ]
  },
  {
   "cell_type": "code",
   "execution_count": 49,
   "id": "6e431537-88f0-4b70-8ba4-1d2ff6d3ef0f",
   "metadata": {
    "execution": {
     "iopub.execute_input": "2022-10-17T01:12:21.212989Z",
     "iopub.status.busy": "2022-10-17T01:12:21.212645Z",
     "iopub.status.idle": "2022-10-17T01:12:21.549467Z",
     "shell.execute_reply": "2022-10-17T01:12:21.548606Z",
     "shell.execute_reply.started": "2022-10-17T01:12:21.212959Z"
    },
    "tags": []
   },
   "outputs": [
    {
     "data": {
      "application/vnd.jupyter.widget-view+json": {
       "model_id": "2e1861af65f44de1900f20170e431cc4",
       "version_major": 2,
       "version_minor": 0
      },
      "text/plain": [
       "VBox()"
      ]
     },
     "metadata": {},
     "output_type": "display_data"
    },
    {
     "data": {
      "application/vnd.jupyter.widget-view+json": {
       "model_id": "",
       "version_major": 2,
       "version_minor": 0
      },
      "text/plain": [
       "FloatProgress(value=0.0, bar_style='info', description='Progress:', layout=Layout(height='25px', width='50%'),…"
      ]
     },
     "metadata": {},
     "output_type": "display_data"
    }
   ],
   "source": [
    "def process_log_data(spark, input_data, output_data):\n",
    "    # get filepath to log data file\n",
    "    log_data = 's3a://udacity-dend/log_data/*/*/*.json'\n",
    "\n",
    "\n",
    "    # read log data file\n",
    "    df = spark.read.json(log_data)\n",
    "    \n",
    "    # filter by actions for song plays\n",
    "    df =  df.filter(\"page == 'NextSong'\").dropDuplicates()\n",
    "\n",
    "    # extract columns for users table    \n",
    "    user_table = df.select(['firstName','gender','userId','level','lastName']).dropDuplicates()\n",
    "    \n",
    "    # write users table to parquet files\n",
    "    user_table.write.parquet(output_data + 'users/')\n",
    "\n",
    "    # create timestamp column from original timestamp column\n",
    "    get_timestamp = udf(lambda x: datetime.fromtimestamp(x / 1000.0))\n",
    "    new_df_logs = df.withColumn(\"timestamp\",get_timestamp(df.ts))\n",
    "    \n",
    "    # create datetime column from original timestamp column\n",
    "    pattern = r'(?:.*)YEAR=(\\d+).+?MONTH=(\\d+).+?DAY_OF_MONTH=(\\d+).+?HOUR=(\\d+).+?MINUTE=(\\d+).+?SECOND=(\\d+).+'\n",
    "    new_df_logs = new_df_logs.withColumn('timest', regexp_replace('timestamp', pattern, '$1-$2-$3 $4:$5:$6').cast('timestamp'))\n",
    "    new_df_logs = new_df_logs.withColumn('month',month(new_df_logs.timest))\\\n",
    "        .withColumn(\"hour\",hour(new_df_logs.timest))\\\n",
    "        .withColumn(\"year\",year(new_df_logs.timest))\\\n",
    "        .withColumn(\"day\",dayofmonth(new_df_logs.timest))\\\n",
    "        .withColumn(\"week\",weekofyear(new_df_logs.timest))\\\n",
    "        .withColumn('weekday', dayofweek('timest'))\n",
    "    \n",
    "    # extract columns to create time table\n",
    "    time_table = new_df_logs.select([\"timest\"])\\\n",
    "        .withColumn(\"hour\",hour(new_df_logs.timest))\\\n",
    "        .withColumn(\"month\",month(new_df_logs.timest))\\\n",
    "        .withColumn(\"year\",year(new_df_logs.timest))\\\n",
    "        .withColumn(\"day\",dayofmonth(new_df_logs.timest))\\\n",
    "        .withColumn(\"week\",weekofyear(new_df_logs.timest))\\\n",
    "        .withColumn('weekday', dayofweek('timest')).dropDuplicates()\n",
    "\n",
    "    \n",
    "    # write time table to parquet files partitioned by year and month\n",
    "    time_table.write.partitionBy(\"year\", \"month\").parquet(output_data + 'time/')\n",
    "\n",
    "\n",
    "    # read in song data to use for songplays table\n",
    "    song_df = spark.read.parquet(output_data + 'songs/')\n",
    "    df10 = song_df.join(artists_table,(song_df.artist_id == artists_table.artist_id))\\\n",
    "        .drop(song_df.artist_id)\\\n",
    "        .drop(song_df.year)\n",
    "    df20 = df10.join(new_df_logs,(df10.artist_name == new_df_logs.artist))\n",
    "\n",
    "    # extract columns from joined song and log datasets to create songplays table \n",
    "    songplays_table = df20.select(\\\n",
    "    col('timest').alias('start_time'),\n",
    "        col('userId').alias('user_id'),\n",
    "        col('level').alias('level'),\n",
    "        col('song_id').alias('song_id'),\n",
    "        col('artist_id').alias('artist_id'),\n",
    "        col('sessionId').alias('session_id'),\n",
    "        col('location').alias('location'),\n",
    "        col('userAgent').alias('user_agent'),\n",
    "        col('year').alias('year'),\n",
    "        col('month').alias('month'))\\\n",
    "        .repartition(\"year\", \"month\").dropDuplicates()\n",
    "\n",
    "\n",
    "    # write songplays table to parquet files partitioned by year and month\n",
    "    songplays_table.write.partitionBy(\"year\", \"month\").parquet(output_data + 'songplays/')\n",
    "\n",
    "\n"
   ]
  },
  {
   "cell_type": "code",
   "execution_count": 56,
   "id": "0bac4201-094c-43a2-afdb-4c6527b637ef",
   "metadata": {
    "execution": {
     "iopub.execute_input": "2022-10-17T01:14:49.348985Z",
     "iopub.status.busy": "2022-10-17T01:14:49.347837Z",
     "iopub.status.idle": "2022-10-17T01:14:49.667058Z",
     "shell.execute_reply": "2022-10-17T01:14:49.665114Z",
     "shell.execute_reply.started": "2022-10-17T01:14:49.348944Z"
    },
    "tags": []
   },
   "outputs": [
    {
     "data": {
      "application/vnd.jupyter.widget-view+json": {
       "model_id": "b4fc22a2983146fa9848439c12ea50ad",
       "version_major": 2,
       "version_minor": 0
      },
      "text/plain": [
       "VBox()"
      ]
     },
     "metadata": {},
     "output_type": "display_data"
    },
    {
     "data": {
      "application/vnd.jupyter.widget-view+json": {
       "model_id": "",
       "version_major": 2,
       "version_minor": 0
      },
      "text/plain": [
       "FloatProgress(value=0.0, bar_style='info', description='Progress:', layout=Layout(height='25px', width='50%'),…"
      ]
     },
     "metadata": {},
     "output_type": "display_data"
    }
   ],
   "source": [
    "def main():\n",
    "    spark = create_spark_session()\n",
    "    input_data = \"s3a://udacity-dend/\"\n",
    "    output_data = \"s3a://datalake-result/\"\n",
    "\n",
    "    \n",
    "    process_song_data(spark, input_data, output_data)    \n",
    "    process_log_data(spark, input_data, output_data)\n"
   ]
  },
  {
   "cell_type": "code",
   "execution_count": 57,
   "id": "16316dfd-f828-4025-9af1-41eb89f9df80",
   "metadata": {
    "execution": {
     "iopub.execute_input": "2022-10-17T01:14:49.896768Z",
     "iopub.status.busy": "2022-10-17T01:14:49.896420Z",
     "iopub.status.idle": "2022-10-17T01:20:16.265961Z",
     "shell.execute_reply": "2022-10-17T01:20:16.264927Z",
     "shell.execute_reply.started": "2022-10-17T01:14:49.896734Z"
    },
    "tags": []
   },
   "outputs": [
    {
     "data": {
      "application/vnd.jupyter.widget-view+json": {
       "model_id": "2ead7a489e2441f5b624ab8ee53b1140",
       "version_major": 2,
       "version_minor": 0
      },
      "text/plain": [
       "VBox()"
      ]
     },
     "metadata": {},
     "output_type": "display_data"
    },
    {
     "data": {
      "application/vnd.jupyter.widget-view+json": {
       "model_id": "",
       "version_major": 2,
       "version_minor": 0
      },
      "text/plain": [
       "FloatProgress(value=0.0, bar_style='info', description='Progress:', layout=Layout(height='25px', width='50%'),…"
      ]
     },
     "metadata": {},
     "output_type": "display_data"
    }
   ],
   "source": [
    "main()"
   ]
  },
  {
   "cell_type": "code",
   "execution_count": null,
   "id": "886cfc0d-3acd-4efc-a030-eedcd975ad15",
   "metadata": {},
   "outputs": [],
   "source": []
  }
 ],
 "metadata": {
  "kernelspec": {
   "display_name": "PySpark",
   "language": "",
   "name": "pysparkkernel"
  },
  "language_info": {
   "codemirror_mode": {
    "name": "python",
    "version": 2
   },
   "mimetype": "text/x-python",
   "name": "pyspark",
   "pygments_lexer": "python2"
  }
 },
 "nbformat": 4,
 "nbformat_minor": 5
}
