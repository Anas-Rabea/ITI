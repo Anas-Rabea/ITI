{
  "cells": [
    {
      "cell_type": "code",
      "source": [
        "from google.colab import drive\n",
        "drive.mount('/content/drive')"
      ],
      "metadata": {
        "id": "ntlN96rXNmgG",
        "outputId": "f8d06be4-db5c-4c7d-a997-f0d591a7b5eb",
        "colab": {
          "base_uri": "https://localhost:8080/"
        }
      },
      "id": "ntlN96rXNmgG",
      "execution_count": null,
      "outputs": [
        {
          "output_type": "stream",
          "name": "stdout",
          "text": [
            "Mounted at /content/drive\n"
          ]
        }
      ]
    },
    {
      "cell_type": "code",
      "source": [
        "import matplotlib.pyplot as plt\n",
        "import numpy as np\n",
        "import pandas as pd\n",
        "import time\n",
        "from sklearn.metrics import r2_score\n",
        "# r2_score(Y , y_pred )\n",
        "%matplotlib inline"
      ],
      "metadata": {
        "id": "ApYJQLWMSxr7"
      },
      "id": "ApYJQLWMSxr7",
      "execution_count": null,
      "outputs": []
    },
    {
      "cell_type": "code",
      "source": [
        "data = pd.read_csv(\"/content/drive/MyDrive/colab_drive/RegData.csv\" , header=None)"
      ],
      "metadata": {
        "id": "QUWfAS9lS7Pr"
      },
      "id": "QUWfAS9lS7Pr",
      "execution_count": null,
      "outputs": []
    },
    {
      "cell_type": "code",
      "source": [
        "data.values"
      ],
      "metadata": {
        "id": "xbdn4XwLKGVM",
        "outputId": "e8ca27ec-062b-4715-9387-3537a6d96375",
        "colab": {
          "base_uri": "https://localhost:8080/"
        }
      },
      "id": "xbdn4XwLKGVM",
      "execution_count": null,
      "outputs": [
        {
          "output_type": "execute_result",
          "data": {
            "text/plain": [
              "array([[2.9000001 , 4.        ],\n",
              "       [6.69999981, 7.4000001 ],\n",
              "       [4.9000001 , 5.        ],\n",
              "       [7.9000001 , 7.19999981],\n",
              "       [9.80000019, 7.9000001 ],\n",
              "       [6.9000001 , 6.0999999 ],\n",
              "       [6.0999999 , 6.        ],\n",
              "       [6.19999981, 5.80000019],\n",
              "       [6.        , 5.19999981],\n",
              "       [5.0999999 , 4.19999981],\n",
              "       [4.69999981, 4.        ],\n",
              "       [4.4000001 , 4.4000001 ],\n",
              "       [5.80000019, 5.19999981]])"
            ]
          },
          "metadata": {},
          "execution_count": 4
        }
      ]
    },
    {
      "cell_type": "code",
      "source": [
        "data.columns = [\"A\",\"B\"]\n",
        "data.head(10)"
      ],
      "metadata": {
        "id": "Jf75Xi_KTDb2",
        "outputId": "c316e9e5-f5f3-45c8-a3df-daa65e96b216",
        "colab": {
          "base_uri": "https://localhost:8080/",
          "height": 363
        }
      },
      "id": "Jf75Xi_KTDb2",
      "execution_count": null,
      "outputs": [
        {
          "output_type": "execute_result",
          "data": {
            "text/plain": [
              "     A    B\n",
              "0  2.9  4.0\n",
              "1  6.7  7.4\n",
              "2  4.9  5.0\n",
              "3  7.9  7.2\n",
              "4  9.8  7.9\n",
              "5  6.9  6.1\n",
              "6  6.1  6.0\n",
              "7  6.2  5.8\n",
              "8  6.0  5.2\n",
              "9  5.1  4.2"
            ],
            "text/html": [
              "\n",
              "  <div id=\"df-6b4b8c64-2f18-4713-8df2-52ae3055b7d2\">\n",
              "    <div class=\"colab-df-container\">\n",
              "      <div>\n",
              "<style scoped>\n",
              "    .dataframe tbody tr th:only-of-type {\n",
              "        vertical-align: middle;\n",
              "    }\n",
              "\n",
              "    .dataframe tbody tr th {\n",
              "        vertical-align: top;\n",
              "    }\n",
              "\n",
              "    .dataframe thead th {\n",
              "        text-align: right;\n",
              "    }\n",
              "</style>\n",
              "<table border=\"1\" class=\"dataframe\">\n",
              "  <thead>\n",
              "    <tr style=\"text-align: right;\">\n",
              "      <th></th>\n",
              "      <th>A</th>\n",
              "      <th>B</th>\n",
              "    </tr>\n",
              "  </thead>\n",
              "  <tbody>\n",
              "    <tr>\n",
              "      <th>0</th>\n",
              "      <td>2.9</td>\n",
              "      <td>4.0</td>\n",
              "    </tr>\n",
              "    <tr>\n",
              "      <th>1</th>\n",
              "      <td>6.7</td>\n",
              "      <td>7.4</td>\n",
              "    </tr>\n",
              "    <tr>\n",
              "      <th>2</th>\n",
              "      <td>4.9</td>\n",
              "      <td>5.0</td>\n",
              "    </tr>\n",
              "    <tr>\n",
              "      <th>3</th>\n",
              "      <td>7.9</td>\n",
              "      <td>7.2</td>\n",
              "    </tr>\n",
              "    <tr>\n",
              "      <th>4</th>\n",
              "      <td>9.8</td>\n",
              "      <td>7.9</td>\n",
              "    </tr>\n",
              "    <tr>\n",
              "      <th>5</th>\n",
              "      <td>6.9</td>\n",
              "      <td>6.1</td>\n",
              "    </tr>\n",
              "    <tr>\n",
              "      <th>6</th>\n",
              "      <td>6.1</td>\n",
              "      <td>6.0</td>\n",
              "    </tr>\n",
              "    <tr>\n",
              "      <th>7</th>\n",
              "      <td>6.2</td>\n",
              "      <td>5.8</td>\n",
              "    </tr>\n",
              "    <tr>\n",
              "      <th>8</th>\n",
              "      <td>6.0</td>\n",
              "      <td>5.2</td>\n",
              "    </tr>\n",
              "    <tr>\n",
              "      <th>9</th>\n",
              "      <td>5.1</td>\n",
              "      <td>4.2</td>\n",
              "    </tr>\n",
              "  </tbody>\n",
              "</table>\n",
              "</div>\n",
              "      <button class=\"colab-df-convert\" onclick=\"convertToInteractive('df-6b4b8c64-2f18-4713-8df2-52ae3055b7d2')\"\n",
              "              title=\"Convert this dataframe to an interactive table.\"\n",
              "              style=\"display:none;\">\n",
              "        \n",
              "  <svg xmlns=\"http://www.w3.org/2000/svg\" height=\"24px\"viewBox=\"0 0 24 24\"\n",
              "       width=\"24px\">\n",
              "    <path d=\"M0 0h24v24H0V0z\" fill=\"none\"/>\n",
              "    <path d=\"M18.56 5.44l.94 2.06.94-2.06 2.06-.94-2.06-.94-.94-2.06-.94 2.06-2.06.94zm-11 1L8.5 8.5l.94-2.06 2.06-.94-2.06-.94L8.5 2.5l-.94 2.06-2.06.94zm10 10l.94 2.06.94-2.06 2.06-.94-2.06-.94-.94-2.06-.94 2.06-2.06.94z\"/><path d=\"M17.41 7.96l-1.37-1.37c-.4-.4-.92-.59-1.43-.59-.52 0-1.04.2-1.43.59L10.3 9.45l-7.72 7.72c-.78.78-.78 2.05 0 2.83L4 21.41c.39.39.9.59 1.41.59.51 0 1.02-.2 1.41-.59l7.78-7.78 2.81-2.81c.8-.78.8-2.07 0-2.86zM5.41 20L4 18.59l7.72-7.72 1.47 1.35L5.41 20z\"/>\n",
              "  </svg>\n",
              "      </button>\n",
              "      \n",
              "  <style>\n",
              "    .colab-df-container {\n",
              "      display:flex;\n",
              "      flex-wrap:wrap;\n",
              "      gap: 12px;\n",
              "    }\n",
              "\n",
              "    .colab-df-convert {\n",
              "      background-color: #E8F0FE;\n",
              "      border: none;\n",
              "      border-radius: 50%;\n",
              "      cursor: pointer;\n",
              "      display: none;\n",
              "      fill: #1967D2;\n",
              "      height: 32px;\n",
              "      padding: 0 0 0 0;\n",
              "      width: 32px;\n",
              "    }\n",
              "\n",
              "    .colab-df-convert:hover {\n",
              "      background-color: #E2EBFA;\n",
              "      box-shadow: 0px 1px 2px rgba(60, 64, 67, 0.3), 0px 1px 3px 1px rgba(60, 64, 67, 0.15);\n",
              "      fill: #174EA6;\n",
              "    }\n",
              "\n",
              "    [theme=dark] .colab-df-convert {\n",
              "      background-color: #3B4455;\n",
              "      fill: #D2E3FC;\n",
              "    }\n",
              "\n",
              "    [theme=dark] .colab-df-convert:hover {\n",
              "      background-color: #434B5C;\n",
              "      box-shadow: 0px 1px 3px 1px rgba(0, 0, 0, 0.15);\n",
              "      filter: drop-shadow(0px 1px 2px rgba(0, 0, 0, 0.3));\n",
              "      fill: #FFFFFF;\n",
              "    }\n",
              "  </style>\n",
              "\n",
              "      <script>\n",
              "        const buttonEl =\n",
              "          document.querySelector('#df-6b4b8c64-2f18-4713-8df2-52ae3055b7d2 button.colab-df-convert');\n",
              "        buttonEl.style.display =\n",
              "          google.colab.kernel.accessAllowed ? 'block' : 'none';\n",
              "\n",
              "        async function convertToInteractive(key) {\n",
              "          const element = document.querySelector('#df-6b4b8c64-2f18-4713-8df2-52ae3055b7d2');\n",
              "          const dataTable =\n",
              "            await google.colab.kernel.invokeFunction('convertToInteractive',\n",
              "                                                     [key], {});\n",
              "          if (!dataTable) return;\n",
              "\n",
              "          const docLinkHtml = 'Like what you see? Visit the ' +\n",
              "            '<a target=\"_blank\" href=https://colab.research.google.com/notebooks/data_table.ipynb>data table notebook</a>'\n",
              "            + ' to learn more about interactive tables.';\n",
              "          element.innerHTML = '';\n",
              "          dataTable['output_type'] = 'display_data';\n",
              "          await google.colab.output.renderOutput(dataTable, element);\n",
              "          const docLink = document.createElement('div');\n",
              "          docLink.innerHTML = docLinkHtml;\n",
              "          element.appendChild(docLink);\n",
              "        }\n",
              "      </script>\n",
              "    </div>\n",
              "  </div>\n",
              "  "
            ]
          },
          "metadata": {},
          "execution_count": 5
        }
      ]
    },
    {
      "cell_type": "markdown",
      "id": "16943853",
      "metadata": {
        "id": "16943853"
      },
      "source": [
        "## Single Variable Linear Regression\n",
        "### Use BFGS Method to optimize a LR model for the data provided in the attached file.\n",
        "### Use Multivariable gradient descent to solve the same problem.\n",
        "### Evaluate Gradient descent solution and BFGS solution using r2_score.\n",
        "### Plot the following curves:\n",
        "#### - Cost vs. iterations.\n",
        "#### - Cost vs. each parameter.\n",
        "### Find the solution using sklearn.linear_model.LinearRegression model.\n",
        "### Compare the results from Gradient descent, BFGS, and sklearn models. Write your conclusion in brief."
      ]
    },
    {
      "cell_type": "code",
      "source": [
        "X = data[\"A\"].values\n",
        "Y = data[\"B\"].values # using capital y instead of small one to distingish the B_inverse equation in BFGS function\n",
        "plt.scatter(X , Y)"
      ],
      "metadata": {
        "id": "NZiZjh0CS6dG",
        "outputId": "c5dc3734-c1f5-46a3-9a76-24c113332fea",
        "colab": {
          "base_uri": "https://localhost:8080/",
          "height": 282
        }
      },
      "id": "NZiZjh0CS6dG",
      "execution_count": null,
      "outputs": [
        {
          "output_type": "execute_result",
          "data": {
            "text/plain": [
              "<matplotlib.collections.PathCollection at 0x7fe97b8f0dd0>"
            ]
          },
          "metadata": {},
          "execution_count": 6
        },
        {
          "output_type": "display_data",
          "data": {
            "text/plain": [
              "<Figure size 432x288 with 1 Axes>"
            ],
            "image/png": "[encoded data removed]"
          },
          "metadata": {
            "needs_background": "light"
          }
        }
      ]
    },
    {
      "cell_type": "code",
      "execution_count": null,
      "id": "4a6ee84a",
      "metadata": {
        "id": "4a6ee84a",
        "outputId": "458cba25-7bfa-4d3a-afc7-0776725cc12c",
        "colab": {
          "base_uri": "https://localhost:8080/"
        }
      },
      "outputs": [
        {
          "output_type": "execute_result",
          "data": {
            "text/plain": [
              "array([2.9000001 , 6.69999981, 4.9000001 , 7.9000001 , 9.80000019,\n",
              "       6.9000001 , 6.0999999 , 6.19999981, 6.        , 5.0999999 ,\n",
              "       4.69999981, 4.4000001 , 5.80000019])"
            ]
          },
          "metadata": {},
          "execution_count": 6
        }
      ],
      "source": [
        "X"
      ]
    },
    {
      "cell_type": "code",
      "execution_count": null,
      "id": "2dd7562a",
      "metadata": {
        "id": "2dd7562a"
      },
      "outputs": [],
      "source": [
        "def BFGS(x0 , x1 ,fun1_d , alpha = 1):\n",
        "    x_list = [x0 , x1]\n",
        "    delta_x  = (x_list[1] - x_list[0]).reshape(-1 , 1)\n",
        "    y = (fun1_d(x1) - fun1_d(x0)).reshape(-1,1)\n",
        "    vect = x1\n",
        "    B_initial = np.eye(2)\n",
        "    vect_list = [x1]\n",
        "    for i in range(1, 100):\n",
        "                       # I                                                          # I \n",
        "        B_inverse = ((np.eye(2) - (delta_x @ y.T) / (y.T @ delta_x)) @ B_initial @ (np.eye(2) - (y @ delta_x.T) / (y.T @ delta_x)))  + ((delta_x @ delta_x.T) / (y.T @ delta_x))\n",
        "        # print(B_inverse)\n",
        "        vect = np.array(vect) - B_inverse @ fun1_d(vect) * alpha\n",
        "        # print(vect)\n",
        "        vect_list.append(vect)\n",
        "        if np.linalg.norm(fun1_d(vect)) < 0.001:\n",
        "            break\n",
        "        delta_x = (vect_list[-1] - vect_list[-2]).reshape(-1 , 1)\n",
        "        y = (fun1_d(vect_list[-1]) - fun1_d(vect_list[-2])).reshape(-1 , 1)\n",
        "        B_initial = B_inverse\n",
        "    print(\"final vector : \" , vect, \" and no of iteration : \", i, \" gred :  \" ,fun1_d(vect) )\n",
        "    return vect_list\n",
        "    "
      ]
    },
    {
      "cell_type": "code",
      "source": [
        "m = len(X)\n",
        "# h_theta = vect[0] + vect[1]* X\n",
        "# gred0 = (1/m)*np.sum(h_theta - Y)\n",
        "# gred1 = (1/m)*np.sum((h_theta - Y) * X)"
      ],
      "metadata": {
        "id": "2F0ldjHOGTxO"
      },
      "id": "2F0ldjHOGTxO",
      "execution_count": null,
      "outputs": []
    },
    {
      "cell_type": "code",
      "execution_count": null,
      "id": "cb5dbc32",
      "metadata": {
        "id": "cb5dbc32"
      },
      "outputs": [],
      "source": [
        "def fun_d(vect):\n",
        "  h_theta = vect[0] + vect[1]* X\n",
        "  return np.array([(1/m)*np.sum(h_theta - Y),  (1/m)*np.sum((h_theta - Y) * X)])"
      ]
    },
    {
      "cell_type": "code",
      "execution_count": null,
      "id": "24f98be4",
      "metadata": {
        "id": "24f98be4"
      },
      "outputs": [],
      "source": [
        "x1 = np.array([0.02,0.13])\n",
        "x0 = np.array([0,0])"
      ]
    },
    {
      "cell_type": "code",
      "source": [],
      "metadata": {
        "id": "y6b_V-4gKcce"
      },
      "id": "y6b_V-4gKcce",
      "execution_count": null,
      "outputs": []
    },
    {
      "cell_type": "markdown",
      "source": [
        "### Use BFGS Method to optimize a LR model for the data provided in the attached file."
      ],
      "metadata": {
        "id": "MdWlTvtGKlaa"
      },
      "id": "MdWlTvtGKlaa"
    },
    {
      "cell_type": "code",
      "execution_count": null,
      "id": "210bfdf9",
      "metadata": {
        "colab": {
          "base_uri": "https://localhost:8080/"
        },
        "id": "210bfdf9",
        "outputId": "35ee62a6-f4af-4b31-ed46-e6c73904c37c"
      },
      "outputs": [
        {
          "output_type": "stream",
          "name": "stdout",
          "text": [
            "final vector :  [1.42158052 0.69649411]  and no of iteration :  73  gred :   [-0.00083143  0.00038411]\n"
          ]
        }
      ],
      "source": [
        "st= time.time()\n",
        "paramter = BFGS(x0 , x1 ,fun_d , 0.1 )\n",
        "ft = time.time()\n",
        "bfgs_time = ft - st\n",
        "# print(bfgs_time)"
      ]
    },
    {
      "cell_type": "code",
      "source": [
        "# paramter"
      ],
      "metadata": {
        "id": "YGiwPg4xTzKy"
      },
      "id": "YGiwPg4xTzKy",
      "execution_count": null,
      "outputs": []
    },
    {
      "cell_type": "code",
      "source": [],
      "metadata": {
        "id": "n84H0MVoaY1U",
        "outputId": "1cdfb3e1-1cc1-4550-8c13-3625434de30a",
        "colab": {
          "base_uri": "https://localhost:8080/"
        }
      },
      "id": "n84H0MVoaY1U",
      "execution_count": null,
      "outputs": [
        {
          "output_type": "execute_result",
          "data": {
            "text/plain": [
              "13"
            ]
          },
          "metadata": {},
          "execution_count": 122
        }
      ]
    },
    {
      "cell_type": "code",
      "source": [
        "parameter = np.array(paramter)\n",
        "cost,theta0,theta1=[],[],[]\n",
        "for i in range(len(parameter)):\n",
        "  h_theta = parameter[i][0]+ parameter[i][1]*X\n",
        "  cost.append((1/(2*m))*np.sum(np.square(h_theta - Y)))\n",
        "  theta0.append(parameter[i][0])\n",
        "  theta1.append(parameter[i][1])\n",
        "\n"
      ],
      "metadata": {
        "id": "U3-a9vSMU1vv"
      },
      "id": "U3-a9vSMU1vv",
      "execution_count": null,
      "outputs": []
    },
    {
      "cell_type": "code",
      "source": [
        "plt.plot(cost)"
      ],
      "metadata": {
        "id": "12Sze0eTbgC9",
        "outputId": "9b566c05-2337-4213-f1fe-39f6c1263330",
        "colab": {
          "base_uri": "https://localhost:8080/",
          "height": 282
        }
      },
      "id": "12Sze0eTbgC9",
      "execution_count": null,
      "outputs": [
        {
          "output_type": "execute_result",
          "data": {
            "text/plain": [
              "[<matplotlib.lines.Line2D at 0x7fe97b3f9990>]"
            ]
          },
          "metadata": {},
          "execution_count": 13
        },
        {
          "output_type": "display_data",
          "data": {
            "text/plain": [
              "<Figure size 432x288 with 1 Axes>"
            ],
            "image/png": "[encoded data removed]"
          },
          "metadata": {
            "needs_background": "light"
          }
        }
      ]
    },
    {
      "cell_type": "code",
      "source": [
        "plt.plot(theta0,cost)"
      ],
      "metadata": {
        "id": "gMaJ1fW2cRf3",
        "outputId": "3d49d3d5-479f-4789-a24d-6b74102c71f0",
        "colab": {
          "base_uri": "https://localhost:8080/",
          "height": 282
        }
      },
      "id": "gMaJ1fW2cRf3",
      "execution_count": null,
      "outputs": [
        {
          "output_type": "execute_result",
          "data": {
            "text/plain": [
              "[<matplotlib.lines.Line2D at 0x7fe97b376a90>]"
            ]
          },
          "metadata": {},
          "execution_count": 14
        },
        {
          "output_type": "display_data",
          "data": {
            "text/plain": [
              "<Figure size 432x288 with 1 Axes>"
            ],
            "image/png": "[encoded data removed]"
          },
          "metadata": {
            "needs_background": "light"
          }
        }
      ]
    },
    {
      "cell_type": "code",
      "source": [
        "plt.plot(theta1,cost)"
      ],
      "metadata": {
        "id": "jhsdxB1TcV1X",
        "outputId": "9c79c9e8-0ff2-49f6-8b3c-f8b03e88ad38",
        "colab": {
          "base_uri": "https://localhost:8080/",
          "height": 282
        }
      },
      "id": "jhsdxB1TcV1X",
      "execution_count": null,
      "outputs": [
        {
          "output_type": "execute_result",
          "data": {
            "text/plain": [
              "[<matplotlib.lines.Line2D at 0x7fe97b2f1990>]"
            ]
          },
          "metadata": {},
          "execution_count": 15
        },
        {
          "output_type": "display_data",
          "data": {
            "text/plain": [
              "<Figure size 432x288 with 1 Axes>"
            ],
            "image/png": "[encoded data removed]"
          },
          "metadata": {
            "needs_background": "light"
          }
        }
      ]
    },
    {
      "cell_type": "code",
      "source": [
        "y_pred = 1.42158052 + 0.69649411*X\n",
        "bfgs_score = r2_score(Y , y_pred)"
      ],
      "metadata": {
        "id": "tOxLmOUTRe_o"
      },
      "id": "tOxLmOUTRe_o",
      "execution_count": null,
      "outputs": []
    },
    {
      "cell_type": "code",
      "source": [
        "plt.scatter(X , Y)\n",
        "plt.plot(X , y_pred)"
      ],
      "metadata": {
        "colab": {
          "base_uri": "https://localhost:8080/",
          "height": 282
        },
        "id": "EY0jz7en3sMX",
        "outputId": "a421b89b-c7f9-401f-943f-6beba14d0996"
      },
      "id": "EY0jz7en3sMX",
      "execution_count": null,
      "outputs": [
        {
          "output_type": "execute_result",
          "data": {
            "text/plain": [
              "[<matplotlib.lines.Line2D at 0x7fe97ae61d90>]"
            ]
          },
          "metadata": {},
          "execution_count": 17
        },
        {
          "output_type": "display_data",
          "data": {
            "text/plain": [
              "<Figure size 432x288 with 1 Axes>"
            ],
            "image/png": "[encoded data removed]"
          },
          "metadata": {
            "needs_background": "light"
          }
        }
      ]
    },
    {
      "cell_type": "markdown",
      "source": [
        "## Use Multivariable gradient descent to solve the same problem."
      ],
      "metadata": {
        "id": "denEHrkBKywh"
      },
      "id": "denEHrkBKywh"
    },
    {
      "cell_type": "code",
      "source": [
        "# I implemented both multi and batch gd"
      ],
      "metadata": {
        "id": "XLSi4kGrdfJY"
      },
      "id": "XLSi4kGrdfJY",
      "execution_count": null,
      "outputs": []
    },
    {
      "cell_type": "code",
      "execution_count": null,
      "id": "001b22ab",
      "metadata": {
        "id": "001b22ab"
      },
      "outputs": [],
      "source": [
        "# vect = np.array([10 ,10])\n",
        "def Multi_GD(fun_d , vect_0 ,alpha):\n",
        "    vect_list = [vect_0]\n",
        "    for i in range(1 , 1000):\n",
        "        new_vect = vect_0 - alpha * fun_d(vect_0)\n",
        "        vect_list.append(new_vect)\n",
        "        if np.linalg.norm(fun_d(vect_list[-1])) < 0.001: break\n",
        "        vect_0 = new_vect\n",
        "    print(\"iteration\",i-1 , vect_list[-1], \"gred: \", fun_d(vect_list[-1]))\n",
        "    "
      ]
    },
    {
      "cell_type": "code",
      "source": [
        "st= time.time()\n",
        "Multi_GD(fun_d ,x0 , 0.001 )\n",
        "ft = time.time()\n",
        "multigd_time = ft - st\n",
        "\n"
      ],
      "metadata": {
        "id": "xLvOEN7FL7b2",
        "outputId": "ed2046ec-27a0-4340-f605-047694edf9de",
        "colab": {
          "base_uri": "https://localhost:8080/"
        }
      },
      "id": "xLvOEN7FL7b2",
      "execution_count": null,
      "outputs": [
        {
          "output_type": "stream",
          "name": "stdout",
          "text": [
            "iteration 998 [0.22688664 0.88321234] gred:  [-0.08383369  0.01310279]\n"
          ]
        }
      ]
    },
    {
      "cell_type": "code",
      "source": [
        "y_pred = 0.22688664 + 0.88321234*X\n",
        "multi_score = r2_score(Y , y_pred)"
      ],
      "metadata": {
        "id": "UOnmsB60R9Zi"
      },
      "id": "UOnmsB60R9Zi",
      "execution_count": null,
      "outputs": []
    },
    {
      "cell_type": "code",
      "source": [
        "def Batch(X , Y , alpha , epoch):\n",
        "    theta0 = theta1 = 0 \n",
        "    thetas0 = []\n",
        "    thetas1 = []\n",
        "    costs = []\n",
        "    m= len(X)\n",
        "    for i in range(epoch):\n",
        "        h_theta = theta0+theta1*X\n",
        "        j_theta = (1/(2*m))*np.sum(np.square(h_theta - Y))\n",
        "        costs.append(j_theta)\n",
        "        gred0 = (1/m)*np.sum(h_theta - Y)\n",
        "        gred1 = (1/m)*np.sum((h_theta - Y) * X)\n",
        "        gred_vector = np.array([gred0,gred0])\n",
        "        if np.linalg.norm(np.array([gred0,gred1])) < 0.02: break\n",
        "#         if (i > 0) and (np.abs(costs[i] - costs[i-1])< 0.00001): break\n",
        "        theta0 = theta0 - (alpha * gred0)\n",
        "        theta1 = theta1 - (alpha * gred1)\n",
        "        thetas0.append(theta0)\n",
        "        thetas1.append(theta1)\n",
        "        if i == (epoch - 1):\n",
        "            j_theta = (1/(2*m))*np.sum(np.square((theta0+theta1*X) - Y))\n",
        "\n",
        "    return theta0 , theta1 , costs, thetas0, thetas1"
      ],
      "metadata": {
        "id": "YJkMj0bRMELl"
      },
      "id": "YJkMj0bRMELl",
      "execution_count": null,
      "outputs": []
    },
    {
      "cell_type": "code",
      "source": [
        "st= time.time()\n",
        "intercept , coef , costs, thetas0 , thetas1 = Batch(X , Y , 0.001, 1000)\n",
        "ft = time.time()\n",
        "batch_time = ft - st\n",
        "# print(batch_time)\n",
        "intercept  , coef "
      ],
      "metadata": {
        "id": "L0CZzHupNmmk",
        "outputId": "eee3480d-b0f6-4ff2-d21c-91b3b0b7f520",
        "colab": {
          "base_uri": "https://localhost:8080/"
        }
      },
      "id": "L0CZzHupNmmk",
      "execution_count": null,
      "outputs": [
        {
          "output_type": "execute_result",
          "data": {
            "text/plain": [
              "(0.22697046994915773, 0.8831992393695128)"
            ]
          },
          "metadata": {},
          "execution_count": 32
        }
      ]
    },
    {
      "cell_type": "code",
      "source": [],
      "metadata": {
        "id": "E3X0ZPMC4ba7"
      },
      "id": "E3X0ZPMC4ba7",
      "execution_count": null,
      "outputs": []
    },
    {
      "cell_type": "code",
      "source": [
        "y_pred = 0.22697046994915773 + 0.8831992393695128*X\n",
        "batch_score = r2_score(Y , y_pred)"
      ],
      "metadata": {
        "id": "MoOwITrxSJs4"
      },
      "id": "MoOwITrxSJs4",
      "execution_count": null,
      "outputs": []
    },
    {
      "cell_type": "code",
      "source": [
        "plt.scatter(X , Y)\n",
        "plt.plot(X , y_pred)"
      ],
      "metadata": {
        "colab": {
          "base_uri": "https://localhost:8080/",
          "height": 282
        },
        "id": "5AckAPOu4cdL",
        "outputId": "8e6d670b-b732-4b93-a59f-1036517ff011"
      },
      "id": "5AckAPOu4cdL",
      "execution_count": null,
      "outputs": [
        {
          "output_type": "execute_result",
          "data": {
            "text/plain": [
              "[<matplotlib.lines.Line2D at 0x7fe97a7a9990>]"
            ]
          },
          "metadata": {},
          "execution_count": 45
        },
        {
          "output_type": "display_data",
          "data": {
            "text/plain": [
              "<Figure size 432x288 with 1 Axes>"
            ],
            "image/png": "[encoded data removed]"
          },
          "metadata": {
            "needs_background": "light"
          }
        }
      ]
    },
    {
      "cell_type": "code",
      "source": [
        "plt.plot(costs)"
      ],
      "metadata": {
        "id": "8-_iMOxjd_vg",
        "outputId": "9379f6a7-a1a4-479b-8441-6cc1519f7f21",
        "colab": {
          "base_uri": "https://localhost:8080/",
          "height": 282
        }
      },
      "id": "8-_iMOxjd_vg",
      "execution_count": null,
      "outputs": [
        {
          "output_type": "execute_result",
          "data": {
            "text/plain": [
              "[<matplotlib.lines.Line2D at 0x7fe97a556350>]"
            ]
          },
          "metadata": {},
          "execution_count": 46
        },
        {
          "output_type": "display_data",
          "data": {
            "text/plain": [
              "<Figure size 432x288 with 1 Axes>"
            ],
            "image/png": "[encoded data removed]"
          },
          "metadata": {
            "needs_background": "light"
          }
        }
      ]
    },
    {
      "cell_type": "code",
      "source": [
        "plt.plot(thetas0, costs)"
      ],
      "metadata": {
        "id": "zRCq3CJneRt0",
        "outputId": "d50f4fc4-b078-4be1-c4ba-83b17bbd4857",
        "colab": {
          "base_uri": "https://localhost:8080/",
          "height": 282
        }
      },
      "id": "zRCq3CJneRt0",
      "execution_count": null,
      "outputs": [
        {
          "output_type": "execute_result",
          "data": {
            "text/plain": [
              "[<matplotlib.lines.Line2D at 0x7fe97a4d10d0>]"
            ]
          },
          "metadata": {},
          "execution_count": 47
        },
        {
          "output_type": "display_data",
          "data": {
            "text/plain": [
              "<Figure size 432x288 with 1 Axes>"
            ],
            "image/png": "[encoded data removed]"
          },
          "metadata": {
            "needs_background": "light"
          }
        }
      ]
    },
    {
      "cell_type": "code",
      "source": [
        "plt.plot(thetas1, costs)"
      ],
      "metadata": {
        "id": "UFSgsYfyeaSn",
        "outputId": "b7ba443f-2ca5-4856-b069-1f138f317f70",
        "colab": {
          "base_uri": "https://localhost:8080/",
          "height": 282
        }
      },
      "id": "UFSgsYfyeaSn",
      "execution_count": null,
      "outputs": [
        {
          "output_type": "execute_result",
          "data": {
            "text/plain": [
              "[<matplotlib.lines.Line2D at 0x7fe97a50d910>]"
            ]
          },
          "metadata": {},
          "execution_count": 48
        },
        {
          "output_type": "display_data",
          "data": {
            "text/plain": [
              "<Figure size 432x288 with 1 Axes>"
            ],
            "image/png": "[encoded data removed]"
          },
          "metadata": {
            "needs_background": "light"
          }
        }
      ]
    },
    {
      "cell_type": "markdown",
      "source": [
        "### Find the solution using sklearn.linear_model.LinearRegression model.\n"
      ],
      "metadata": {
        "id": "wQ_oO2IsUfck"
      },
      "id": "wQ_oO2IsUfck"
    },
    {
      "cell_type": "code",
      "source": [],
      "metadata": {
        "id": "xVWmA9PDePpf"
      },
      "id": "xVWmA9PDePpf",
      "execution_count": null,
      "outputs": []
    },
    {
      "cell_type": "code",
      "source": [
        "from sklearn.linear_model import LinearRegression\n",
        "st= time.time()\n",
        "reg = LinearRegression().fit(X.reshape(-1,1), Y)\n",
        "ft = time.time()\n",
        "sklearn_time = ft - st\n",
        "print(sklearn_time)\n",
        "reg.coef_ , reg.intercept_"
      ],
      "metadata": {
        "id": "Ay_J7xRCNr5m",
        "outputId": "f6601840-3efb-46b5-f2be-f2d85b6fc2c7",
        "colab": {
          "base_uri": "https://localhost:8080/"
        }
      },
      "id": "Ay_J7xRCNr5m",
      "execution_count": null,
      "outputs": [
        {
          "output_type": "stream",
          "name": "stdout",
          "text": [
            "0.014523029327392578\n"
          ]
        },
        {
          "output_type": "execute_result",
          "data": {
            "text/plain": [
              "(array([0.69452919]), 1.4341107664655004)"
            ]
          },
          "metadata": {},
          "execution_count": 37
        }
      ]
    },
    {
      "cell_type": "code",
      "source": [
        "y_pred = 1.4341107664655004 + 0.69452919*X\n",
        "sklearn_core = r2_score(Y , y_pred)"
      ],
      "metadata": {
        "id": "Mgh0WXc6SrJa"
      },
      "id": "Mgh0WXc6SrJa",
      "execution_count": null,
      "outputs": []
    },
    {
      "cell_type": "code",
      "source": [
        "plt.scatter(X , Y)\n",
        "plt.plot(X , y_pred)"
      ],
      "metadata": {
        "colab": {
          "base_uri": "https://localhost:8080/",
          "height": 282
        },
        "id": "B3g7Sxdp4o7p",
        "outputId": "9c230140-62c8-4ced-87b7-e6d22616aaa9"
      },
      "id": "B3g7Sxdp4o7p",
      "execution_count": null,
      "outputs": [
        {
          "output_type": "execute_result",
          "data": {
            "text/plain": [
              "[<matplotlib.lines.Line2D at 0x7fe97a857710>]"
            ]
          },
          "metadata": {},
          "execution_count": 39
        },
        {
          "output_type": "display_data",
          "data": {
            "text/plain": [
              "<Figure size 432x288 with 1 Axes>"
            ],
            "image/png": "[encoded data removed]"
          },
          "metadata": {
            "needs_background": "light"
          }
        }
      ]
    },
    {
      "cell_type": "code",
      "source": [],
      "metadata": {
        "id": "tpdtURFR5ApT"
      },
      "id": "tpdtURFR5ApT",
      "execution_count": null,
      "outputs": []
    },
    {
      "cell_type": "markdown",
      "source": [
        "### Compare the results from Gradient descent, BFGS, and sklearn models. Write your conclusion in brief."
      ],
      "metadata": {
        "id": "8DdQ6d1k5BzN"
      },
      "id": "8DdQ6d1k5BzN"
    },
    {
      "cell_type": "code",
      "source": [
        "from prettytable import PrettyTable"
      ],
      "metadata": {
        "id": "t1McvXYo5cCa"
      },
      "id": "t1McvXYo5cCa",
      "execution_count": null,
      "outputs": []
    },
    {
      "cell_type": "code",
      "source": [
        "myTable = PrettyTable([\" type\", \"time consumed\" , \"re_score\"])\n",
        "myTable.add_row([\" BFGS\",bfgs_time ,bfgs_score ])\n",
        "myTable.add_row([\" Multi_GD\",multigd_time,multi_score ])\n",
        "myTable.add_row([\" Batch_GD \",batch_time, batch_score ])\n",
        "myTable.add_row([\" SKLEARN\",sklearn_time,sklearn_core ])\n",
        "\n",
        "print(myTable)"
      ],
      "metadata": {
        "colab": {
          "base_uri": "https://localhost:8080/"
        },
        "id": "tPeiirJu5U_y",
        "outputId": "129e0bf8-51cb-4a2a-ed35-1ee6e70be986"
      },
      "id": "tPeiirJu5U_y",
      "execution_count": null,
      "outputs": [
        {
          "output_type": "stream",
          "name": "stdout",
          "text": [
            "+------------+----------------------+--------------------+\n",
            "|    type    |    time consumed     |      re_score      |\n",
            "+------------+----------------------+--------------------+\n",
            "|    BFGS    | 0.013948678970336914 | 0.8213086704633954 |\n",
            "|  Multi_GD  | 0.17014741897583008  | 0.756290675797065  |\n",
            "|  Batch_GD  | 0.06751465797424316  | 0.7562997061628611 |\n",
            "|   SKLEARN  | 0.014523029327392578 | 0.8213156778363773 |\n",
            "+------------+----------------------+--------------------+\n"
          ]
        }
      ]
    },
    {
      "cell_type": "code",
      "source": [],
      "metadata": {
        "id": "o2NAji29P9iQ"
      },
      "id": "o2NAji29P9iQ",
      "execution_count": null,
      "outputs": []
    },
    {
      "cell_type": "code",
      "source": [
        "# BFGS is much similar to sklearn implementation ang get close score\n",
        "# For multiGD it need more much epochs to reach min than BFGS\n"
      ],
      "metadata": {
        "id": "pYxzsVsEP_b7"
      },
      "id": "pYxzsVsEP_b7",
      "execution_count": null,
      "outputs": []
    },
    {
      "cell_type": "code",
      "source": [],
      "metadata": {
        "id": "hDXTmN6G6vNf"
      },
      "id": "hDXTmN6G6vNf",
      "execution_count": null,
      "outputs": []
    }
  ],
  "metadata": {
    "kernelspec": {
      "display_name": "Python 3 (ipykernel)",
      "language": "python",
      "name": "python3"
    },
    "language_info": {
      "codemirror_mode": {
        "name": "ipython",
        "version": 3
      },
      "file_extension": ".py",
      "mimetype": "text/x-python",
      "name": "python",
      "nbconvert_exporter": "python",
      "pygments_lexer": "ipython3",
      "version": "3.9.12"
    },
    "colab": {
      "provenance": [],
      "collapsed_sections": []
    },
    "accelerator": "GPU",
    "gpuClass": "standard"
  },
  "nbformat": 4,
  "nbformat_minor": 5
}