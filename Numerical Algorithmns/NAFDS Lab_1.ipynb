{
 "cells": [
  {
   "cell_type": "code",
   "execution_count": 27,
   "id": "a793dfb8",
   "metadata": {},
   "outputs": [],
   "source": [
    "import numpy as np\n",
    "from scipy.linalg import lu"
   ]
  },
  {
   "cell_type": "markdown",
   "id": "35e6a58a",
   "metadata": {},
   "source": [
    "### Solve the following system of equations using LU Decomposition method:\n",
    "#### Find L and U by hand.\n",
    "#### Confirm that A=LU then solve.\n",
    "- Ex1. 𝟐𝒙+𝟓𝒚=𝟐𝟏, 𝒙+𝟐𝒚=𝟖.\n",
    "- Ex2. 𝒙𝟏+𝒙𝟐+𝒙𝟑=𝟏, 𝟒𝒙𝟏+𝟑𝒙𝟐−𝒙𝟑=𝟔, 𝟑𝒙𝟏+𝟓𝒙_𝟐+𝟑𝒙𝟑=𝟒\n",
    "\n",
    "#### Use scipy.linalg.lu() to slove the previous system using LU decomposition and compare the results."
   ]
  },
  {
   "cell_type": "markdown",
   "id": "e7e1208d",
   "metadata": {},
   "source": [
    "### Note (when using scipy):\n",
    "- In the second system of equations We can see the <b>L and U</b> we get are different from the ones we got by hand. \n",
    "- You will also see there is a permutation matrix <b>P</b> that returned by the <b>lu function</b>. \n",
    "- This permutation matrix record how do we change the order of the equations for easier calculation purposes (for example, if first element in first row is zero, it can not be the pivot equation, since you can not turn the first elements in other rows to zero. Therefore, we need to switch the order of the equations to get a new pivot equation). \n",
    "- If you multiply <b>P with A</b>, you will see that this permutation matrix effect.\n",
    "- You will need to arrange the ouput based on the new matrix <b>A</b> achieved by <b>LU</b> multiplication in order to correctly solve the system of equations."
   ]
  },
  {
   "cell_type": "code",
   "execution_count": 4,
   "id": "b782b424",
   "metadata": {},
   "outputs": [],
   "source": [
    "import numpy as np"
   ]
  },
  {
   "cell_type": "code",
   "execution_count": 5,
   "id": "310f41a0",
   "metadata": {},
   "outputs": [
    {
     "data": {
      "text/plain": [
       "(2, 2)"
      ]
     },
     "execution_count": 5,
     "metadata": {},
     "output_type": "execute_result"
    }
   ],
   "source": [
    "A = np.array([[2 ,5] , [1 , 2]])\n",
    "A.shape"
   ]
  },
  {
   "cell_type": "code",
   "execution_count": 7,
   "id": "359f45ab",
   "metadata": {},
   "outputs": [],
   "source": [
    "l_small = np.array([[1 , 0] , [-0.5 ,1]])"
   ]
  },
  {
   "cell_type": "code",
   "execution_count": 16,
   "id": "bc9da681",
   "metadata": {},
   "outputs": [
    {
     "data": {
      "text/plain": [
       "((2, 2),\n",
       " array([[1. , 0. ],\n",
       "        [0.5, 1. ]]))"
      ]
     },
     "execution_count": 16,
     "metadata": {},
     "output_type": "execute_result"
    }
   ],
   "source": [
    "L = np.linalg.inv(l_small)\n",
    "L.shape , L "
   ]
  },
  {
   "cell_type": "code",
   "execution_count": 9,
   "id": "745a9fe7",
   "metadata": {},
   "outputs": [
    {
     "data": {
      "text/plain": [
       "array([[ 2. ,  5. ],\n",
       "       [ 0. , -0.5]])"
      ]
     },
     "execution_count": 9,
     "metadata": {},
     "output_type": "execute_result"
    }
   ],
   "source": [
    "U = l_small @ A\n",
    "U"
   ]
  },
  {
   "cell_type": "code",
   "execution_count": 13,
   "id": "833d8196",
   "metadata": {},
   "outputs": [
    {
     "data": {
      "text/plain": [
       "(2, 1)"
      ]
     },
     "execution_count": 13,
     "metadata": {},
     "output_type": "execute_result"
    }
   ],
   "source": [
    "Y = np.array([[21] , [8]])\n",
    "Y.shape"
   ]
  },
  {
   "cell_type": "code",
   "execution_count": 17,
   "id": "fdfaf046",
   "metadata": {},
   "outputs": [
    {
     "data": {
      "text/plain": [
       "array([[21. ],\n",
       "       [-2.5]])"
      ]
     },
     "execution_count": 17,
     "metadata": {},
     "output_type": "execute_result"
    }
   ],
   "source": [
    "M =  np.linalg.inv(L) @ Y \n",
    "M"
   ]
  },
  {
   "cell_type": "code",
   "execution_count": 18,
   "id": "c7935683",
   "metadata": {},
   "outputs": [],
   "source": [
    "X = np.linalg.inv(U) @ M"
   ]
  },
  {
   "cell_type": "code",
   "execution_count": 19,
   "id": "9d5cac5d",
   "metadata": {},
   "outputs": [
    {
     "data": {
      "text/plain": [
       "array([[-2.],\n",
       "       [ 5.]])"
      ]
     },
     "execution_count": 19,
     "metadata": {},
     "output_type": "execute_result"
    }
   ],
   "source": [
    "X"
   ]
  },
  {
   "cell_type": "code",
   "execution_count": 20,
   "id": "30802b46",
   "metadata": {},
   "outputs": [
    {
     "data": {
      "text/plain": [
       "array([[2., 5.],\n",
       "       [1., 2.]])"
      ]
     },
     "execution_count": 20,
     "metadata": {},
     "output_type": "execute_result"
    }
   ],
   "source": [
    "L @ U "
   ]
  },
  {
   "cell_type": "code",
   "execution_count": 14,
   "id": "9df59b52",
   "metadata": {},
   "outputs": [
    {
     "name": "stdout",
     "output_type": "stream",
     "text": [
      "A = [[2 5]\n",
      " [1 2]]\n",
      "LU =  [[2. 5.]\n",
      " [1. 2.]]\n",
      "M = [[21. ]\n",
      " [-2.5]]\n",
      "x = [[-2.]\n",
      " [ 5.]]\n"
     ]
    }
   ],
   "source": []
  },
  {
   "cell_type": "code",
   "execution_count": 69,
   "id": "7ae44bc5",
   "metadata": {},
   "outputs": [
    {
     "data": {
      "text/plain": [
       "array([[ 1,  1,  1],\n",
       "       [ 4,  3, -1],\n",
       "       [ 3,  5,  3]])"
      ]
     },
     "execution_count": 69,
     "metadata": {},
     "output_type": "execute_result"
    }
   ],
   "source": [
    "A = np.array([[ 1 , 1 , 1]\n",
    "             ,[ 4 , 3 ,-1]\n",
    "             ,[ 3 , 5 , 3]])\n",
    "A "
   ]
  },
  {
   "cell_type": "code",
   "execution_count": 70,
   "id": "b8a5fc4d",
   "metadata": {},
   "outputs": [],
   "source": [
    "# l1_small = np.array([[1,0,0],[-4,1,0],[-3,0,1]])\n",
    "L = lu(A)[1]\n",
    "U = lu(A)[2]"
   ]
  },
  {
   "cell_type": "code",
   "execution_count": 71,
   "id": "d6daaada",
   "metadata": {},
   "outputs": [
    {
     "data": {
      "text/plain": [
       "(array([[0., 0., 1.],\n",
       "        [1., 0., 0.],\n",
       "        [0., 1., 0.]]),\n",
       " array([[1.        , 0.        , 0.        ],\n",
       "        [0.75      , 1.        , 0.        ],\n",
       "        [0.25      , 0.09090909, 1.        ]]),\n",
       " array([[ 4.        ,  3.        , -1.        ],\n",
       "        [ 0.        ,  2.75      ,  3.75      ],\n",
       "        [ 0.        ,  0.        ,  0.90909091]]))"
      ]
     },
     "execution_count": 71,
     "metadata": {},
     "output_type": "execute_result"
    }
   ],
   "source": [
    "lu(A)"
   ]
  },
  {
   "cell_type": "code",
   "execution_count": 60,
   "id": "e8af4f2b",
   "metadata": {},
   "outputs": [
    {
     "data": {
      "text/plain": [
       "array([[1., 0., 0.],\n",
       "       [0., 0., 1.],\n",
       "       [0., 1., 0.]])"
      ]
     },
     "execution_count": 60,
     "metadata": {},
     "output_type": "execute_result"
    }
   ],
   "source": [
    "lu(A)[0]"
   ]
  },
  {
   "cell_type": "code",
   "execution_count": 72,
   "id": "fae669a4",
   "metadata": {},
   "outputs": [],
   "source": [
    "Y = np.array([[1],[6],[4]])"
   ]
  },
  {
   "cell_type": "code",
   "execution_count": 73,
   "id": "dfd244e4",
   "metadata": {},
   "outputs": [
    {
     "data": {
      "text/plain": [
       "array([[ 4.,  3., -1.],\n",
       "       [ 3.,  5.,  3.],\n",
       "       [ 1.,  1.,  1.]])"
      ]
     },
     "execution_count": 73,
     "metadata": {},
     "output_type": "execute_result"
    }
   ],
   "source": [
    "L @ U "
   ]
  },
  {
   "cell_type": "code",
   "execution_count": 74,
   "id": "ff24bd4e",
   "metadata": {},
   "outputs": [
    {
     "data": {
      "text/plain": [
       "array([[1.        , 0.        , 0.        ],\n",
       "       [0.75      , 1.        , 0.        ],\n",
       "       [0.25      , 0.09090909, 1.        ]])"
      ]
     },
     "execution_count": 74,
     "metadata": {},
     "output_type": "execute_result"
    }
   ],
   "source": [
    "L"
   ]
  },
  {
   "cell_type": "code",
   "execution_count": 75,
   "id": "0ea49065",
   "metadata": {},
   "outputs": [
    {
     "data": {
      "text/plain": [
       "array([[ 4.        ,  3.        , -1.        ],\n",
       "       [ 0.        ,  2.75      ,  3.75      ],\n",
       "       [ 0.        ,  0.        ,  0.90909091]])"
      ]
     },
     "execution_count": 75,
     "metadata": {},
     "output_type": "execute_result"
    }
   ],
   "source": [
    "U"
   ]
  },
  {
   "cell_type": "code",
   "execution_count": 76,
   "id": "0615d5b4",
   "metadata": {},
   "outputs": [
    {
     "data": {
      "text/plain": [
       "array([[ 4.,  3., -1.],\n",
       "       [ 3.,  5.,  3.],\n",
       "       [ 1.,  1.,  1.]])"
      ]
     },
     "execution_count": 76,
     "metadata": {},
     "output_type": "execute_result"
    }
   ],
   "source": [
    "L @ U"
   ]
  },
  {
   "cell_type": "code",
   "execution_count": 78,
   "id": "4327b347",
   "metadata": {},
   "outputs": [
    {
     "data": {
      "text/plain": [
       "array([[ 6.        ],\n",
       "       [-0.5       ],\n",
       "       [-0.45454545]])"
      ]
     },
     "execution_count": 78,
     "metadata": {},
     "output_type": "execute_result"
    }
   ],
   "source": [
    "M = np.linalg.inv(L) @ np.linalg.inv(lu(A)[0]) @Y\n",
    "M"
   ]
  },
  {
   "cell_type": "code",
   "execution_count": 67,
   "id": "f275b354",
   "metadata": {},
   "outputs": [],
   "source": [
    "X = np.linalg.inv(U) @ M"
   ]
  },
  {
   "cell_type": "code",
   "execution_count": 68,
   "id": "9e9ce852",
   "metadata": {},
   "outputs": [
    {
     "data": {
      "text/plain": [
       "array([[ 6.4],\n",
       "       [-5.5],\n",
       "       [ 3.1]])"
      ]
     },
     "execution_count": 68,
     "metadata": {},
     "output_type": "execute_result"
    }
   ],
   "source": [
    "X"
   ]
  },
  {
   "cell_type": "code",
   "execution_count": null,
   "id": "833e79cd",
   "metadata": {},
   "outputs": [],
   "source": []
  },
  {
   "cell_type": "code",
   "execution_count": 9,
   "id": "18626b95",
   "metadata": {},
   "outputs": [
    {
     "name": "stdout",
     "output_type": "stream",
     "text": [
      "A = [[ 1  1  1]\n",
      " [ 4  3 -1]\n",
      " [ 3  5  3]]\n",
      "LU =  [[ 1  1  1]\n",
      " [ 4  3 -1]\n",
      " [ 3  5  3]]\n",
      "M = [[1.]\n",
      " [2.]\n",
      " [5.]]\n",
      "x = [[ 1. ]\n",
      " [ 0.5]\n",
      " [-0.5]]\n"
     ]
    }
   ],
   "source": []
  },
  {
   "cell_type": "code",
   "execution_count": 10,
   "id": "b5ed8d99",
   "metadata": {},
   "outputs": [],
   "source": []
  },
  {
   "cell_type": "code",
   "execution_count": 11,
   "id": "124ad8a0",
   "metadata": {},
   "outputs": [
    {
     "name": "stdout",
     "output_type": "stream",
     "text": [
      "P:\n",
      " [[0. 0. 1.]\n",
      " [1. 0. 0.]\n",
      " [0. 1. 0.]]\n",
      "L:\n",
      " [[1.         0.         0.        ]\n",
      " [0.75       1.         0.        ]\n",
      " [0.25       0.09090909 1.        ]]\n",
      "U:\n",
      " [[ 4.          3.         -1.        ]\n",
      " [ 0.          2.75        3.75      ]\n",
      " [ 0.          0.          0.90909091]]\n",
      "LU:\n",
      " [[ 4.  3. -1.]\n",
      " [ 3.  5.  3.]\n",
      " [ 1.  1.  1.]]\n",
      "A:\n",
      " [[ 1  1  1]\n",
      " [ 4  3 -1]\n",
      " [ 3  5  3]]\n"
     ]
    }
   ],
   "source": []
  },
  {
   "cell_type": "code",
   "execution_count": 12,
   "id": "8db129da",
   "metadata": {},
   "outputs": [
    {
     "name": "stdout",
     "output_type": "stream",
     "text": [
      "M = [[ 6.        ]\n",
      " [-0.5       ]\n",
      " [-0.45454545]]\n",
      "x = [[ 1. ]\n",
      " [ 0.5]\n",
      " [-0.5]]\n"
     ]
    }
   ],
   "source": []
  },
  {
   "cell_type": "markdown",
   "id": "4db8f2ad",
   "metadata": {},
   "source": [
    "### Apply the Jacobi and Gauss-Seidel method to solve\n",
    "- 𝟓𝒙𝟏−𝟐𝒙𝟐+𝟑𝒙𝟑=−𝟏, −𝟑𝒙𝟏+𝟗𝒙𝟐+𝒙𝟑=𝟐, 𝟐𝒙𝟏−𝒙𝟐−𝟕𝒙𝟑=𝟑\n",
    "- Solve once without vectorization then use vectorize implementation.\n",
    "- Check for convergance.\n",
    "- Use different tolerence and see the difference between the two methods. e.g. tol: 0.01,0.001,0.0001 ... etc."
   ]
  },
  {
   "cell_type": "code",
   "execution_count": 79,
   "id": "b731a99b",
   "metadata": {},
   "outputs": [
    {
     "data": {
      "text/plain": [
       "array([[ 5, -2,  3],\n",
       "       [-3,  9,  1],\n",
       "       [ 2, -1, -7]])"
      ]
     },
     "execution_count": 79,
     "metadata": {},
     "output_type": "execute_result"
    }
   ],
   "source": [
    "A = np.array([[5, -2, 3],\n",
    "              [-3, 9, 1],\n",
    "              [2, -1, -7]])\n",
    "A"
   ]
  },
  {
   "cell_type": "code",
   "execution_count": 123,
   "id": "1b549f2f",
   "metadata": {},
   "outputs": [],
   "source": [
    "D = np.array([[5,0 ,0] , [0 ,9 ,0] , [0 , 0 , -7]]) # diagflat\n",
    "L = -1  * np.array([[0 ,0 ,0], [-3 , 0 , 0], [2 , -1 , 0]]) # trylower\n",
    "U =  -1 * np.array([[0 , -2 , 3], [0, 0, 1],[0 ,0 ,0]]) #tryupper\n",
    "B = np.array([[-1],[2],[3]])"
   ]
  },
  {
   "cell_type": "code",
   "execution_count": 124,
   "id": "52984ca6",
   "metadata": {},
   "outputs": [
    {
     "data": {
      "text/plain": [
       "(3, 3)"
      ]
     },
     "execution_count": 124,
     "metadata": {},
     "output_type": "execute_result"
    }
   ],
   "source": [
    "LplusU = L + U\n",
    "LplusU.shape"
   ]
  },
  {
   "cell_type": "code",
   "execution_count": 125,
   "id": "12b789d5",
   "metadata": {},
   "outputs": [
    {
     "data": {
      "text/plain": [
       "(3, 3)"
      ]
     },
     "execution_count": 125,
     "metadata": {},
     "output_type": "execute_result"
    }
   ],
   "source": [
    "D.shape"
   ]
  },
  {
   "cell_type": "code",
   "execution_count": 126,
   "id": "5a65d69e",
   "metadata": {},
   "outputs": [],
   "source": [
    "T = np.linalg.inv(D) @ LplusU\n",
    "C_J = np.linalg.inv(D) @ B"
   ]
  },
  {
   "cell_type": "code",
   "execution_count": 127,
   "id": "c8a3555f",
   "metadata": {},
   "outputs": [
    {
     "data": {
      "text/plain": [
       "(3, 1)"
      ]
     },
     "execution_count": 127,
     "metadata": {},
     "output_type": "execute_result"
    }
   ],
   "source": [
    "C_J.shape"
   ]
  },
  {
   "cell_type": "code",
   "execution_count": 128,
   "id": "72764ceb",
   "metadata": {},
   "outputs": [
    {
     "data": {
      "text/plain": [
       "(3, 3)"
      ]
     },
     "execution_count": 128,
     "metadata": {},
     "output_type": "execute_result"
    }
   ],
   "source": [
    "T.shape"
   ]
  },
  {
   "cell_type": "code",
   "execution_count": null,
   "id": "53e3e335",
   "metadata": {},
   "outputs": [],
   "source": []
  },
  {
   "cell_type": "code",
   "execution_count": 129,
   "id": "da92e9c7",
   "metadata": {},
   "outputs": [],
   "source": [
    "K = []\n",
    "K.append(np.zeros((3 , 1)))\n",
    "for i in range(1,10+1):\n",
    "    K.append((T @ K[i-1]) + C_J)\n",
    "    "
   ]
  },
  {
   "cell_type": "code",
   "execution_count": 130,
   "id": "69e8a6c7",
   "metadata": {},
   "outputs": [
    {
     "data": {
      "text/plain": [
       "[array([[0.],\n",
       "        [0.],\n",
       "        [0.]]),\n",
       " array([[-0.2       ],\n",
       "        [ 0.22222222],\n",
       "        [-0.42857143]]),\n",
       " array([[ 0.14603175],\n",
       "        [ 0.2031746 ],\n",
       "        [-0.51746032]]),\n",
       " array([[ 0.19174603],\n",
       "        [ 0.32839506],\n",
       "        [-0.41587302]]),\n",
       " array([[ 0.18088183],\n",
       "        [ 0.33234568],\n",
       "        [-0.42070043]]),\n",
       " array([[ 0.18535853],\n",
       "        [ 0.32926066],\n",
       "        [-0.42436886]]),\n",
       " array([[ 0.18632558],\n",
       "        [ 0.33116049],\n",
       "        [-0.42264909]]),\n",
       " array([[ 0.18605365],\n",
       "        [ 0.33129176],\n",
       "        [-0.42264419]]),\n",
       " array([[ 0.18610322],\n",
       "        [ 0.33120057],\n",
       "        [-0.42274064]]),\n",
       " array([[ 0.18612461],\n",
       "        [ 0.33122781],\n",
       "        [-0.42271345]]),\n",
       " array([[ 0.18611919],\n",
       "        [ 0.33123192],\n",
       "        [-0.42271123]])]"
      ]
     },
     "execution_count": 130,
     "metadata": {},
     "output_type": "execute_result"
    }
   ],
   "source": [
    "K"
   ]
  },
  {
   "cell_type": "code",
   "execution_count": 131,
   "id": "08f55787",
   "metadata": {},
   "outputs": [
    {
     "data": {
      "text/plain": [
       "array([[ 0.18611919],\n",
       "       [ 0.33123192],\n",
       "       [-0.42271123]])"
      ]
     },
     "execution_count": 131,
     "metadata": {},
     "output_type": "execute_result"
    }
   ],
   "source": [
    "solution = K[-1]\n",
    "solution "
   ]
  },
  {
   "cell_type": "code",
   "execution_count": 23,
   "id": "3a664e8b",
   "metadata": {},
   "outputs": [
    {
     "name": "stdout",
     "output_type": "stream",
     "text": [
      "diagonal    : [5 9 7]\n",
      "off diagonal: [5 4 3]\n",
      "matrix is diagonally dominant\n"
     ]
    }
   ],
   "source": [
    "A = np.array([[5, -2, 3],\n",
    "              [-3, 9, 1],\n",
    "              [2, -1, -7]])\n",
    "\n"
   ]
  },
  {
   "cell_type": "code",
   "execution_count": 159,
   "id": "9234fc98",
   "metadata": {},
   "outputs": [
    {
     "name": "stdout",
     "output_type": "stream",
     "text": [
      "k    x1        x2         x3\n",
      "1     -0.2     0.2222     -0.4286\n",
      "2     0.146     0.2032     -0.5175\n",
      "3     0.1918     0.3284     -0.4159\n",
      "4     0.1809     0.3324     -0.4207\n",
      "5     0.1854     0.3293     -0.4244\n",
      "6     0.1864     0.3312     -0.4226\n",
      "7     0.186     0.3313     -0.4226\n",
      "8     0.1861     0.3312     -0.4228\n",
      "9     0.1862     0.3312     -0.4227\n",
      "10     0.1861     0.3313     -0.4227\n"
     ]
    }
   ],
   "source": [
    "X1 = X2 = X3 = 0 \n",
    "print(\"k   \", \"x1        x2         x3\")\n",
    "for k in range(1,20):\n",
    "    X1_new = round((-1+2*X2-3*X3)/5,4)\n",
    "    X2_new = round((2+3*X1-X3)/9,4)\n",
    "    X3_new = round((3-2*X1+X2)/-7,4)\n",
    "    \n",
    "    \n",
    "#     if abs(X1[k] -X1[k-1])+abs(X2[k] -X2[k-1])+abs(X3[k] -X3[k-1])<0.0001:\n",
    "    if abs(X1 -X1_new)+abs(X2 -X2_new)+abs(X3 -X3_new)<0.0001:\n",
    "        break\n",
    "    else:\n",
    "        X1 = X1_new\n",
    "        X2 = X2_new\n",
    "        X3 = X3_new\n",
    "        print(k,\"   \",X1,\"   \",X2,\"   \",X3)"
   ]
  },
  {
   "cell_type": "code",
   "execution_count": null,
   "id": "87b4f7f0",
   "metadata": {},
   "outputs": [],
   "source": []
  },
  {
   "cell_type": "code",
   "execution_count": 18,
   "id": "b2007438",
   "metadata": {},
   "outputs": [
    {
     "name": "stdout",
     "output_type": "stream",
     "text": [
      "Iteration results\n",
      " k,    x1,    x2,    x3 \n",
      "1, -0.2000, 0.2222, -0.4286\n",
      "2, 0.1460, 0.2032, -0.5175\n",
      "3, 0.1917, 0.3284, -0.4159\n",
      "4, 0.1809, 0.3323, -0.4207\n",
      "5, 0.1854, 0.3293, -0.4244\n",
      "6, 0.1863, 0.3312, -0.4226\n",
      "7, 0.1861, 0.3313, -0.4226\n",
      "8, 0.1861, 0.3312, -0.4227\n",
      "9, 0.1861, 0.3312, -0.4227\n",
      "10, 0.1861, 0.3312, -0.4227\n",
      "Converged!\n"
     ]
    }
   ],
   "source": [
    "## Jacobi Not Vectorized\n",
    "epsilon = 0.00001"
   ]
  },
  {
   "cell_type": "code",
   "execution_count": 156,
   "id": "1384cfc2",
   "metadata": {},
   "outputs": [
    {
     "name": "stdout",
     "output_type": "stream",
     "text": [
      "k    x1        x2         x3\n",
      "1     -0.2     0.2222     -0.4286\n",
      "2     0.146     0.2032     -0.5175\n",
      "3     0.1918     0.3284     -0.4159\n",
      "4     0.1809     0.3324     -0.4207\n",
      "5     0.1854     0.3293     -0.4244\n",
      "6     0.1864     0.3312     -0.4226\n",
      "7     0.186     0.3313     -0.4226\n",
      "8     0.1861     0.3312     -0.4228\n",
      "9     0.1862     0.3312     -0.4227\n",
      "10     0.1861     0.3313     -0.4227\n"
     ]
    }
   ],
   "source": [
    "#gauss jordan elimination\n",
    "X1 , X2 , X3 =[] , [] ,[]\n",
    "X1.append(0) , X2.append(0) , X3.append(0)\n",
    "print(\"k   \", \"x1        x2         x3\")\n",
    "for k in range(1,20):\n",
    "    X1.append(round((-1+2*X2[k-1]-3*X3[k-1])/5,4))\n",
    "    X2.append(round((2+3*X1[k-1]-X3[k-1])/9,4))\n",
    "    X3.append(round((3-2*X1[k-1]+X2[k-1])/-7,4))\n",
    "    if abs(X1[k] -X1[k-1])+abs(X2[k] -X2[k-1])+abs(X3[k] -X3[k-1])<0.0001:\n",
    "        break\n",
    "    else:\n",
    "        print(k,\"   \",X1[k],\"   \",X2[k],\"   \",X3[k])"
   ]
  },
  {
   "cell_type": "code",
   "execution_count": 19,
   "id": "6f1a05b5",
   "metadata": {},
   "outputs": [
    {
     "name": "stdout",
     "output_type": "stream",
     "text": [
      "Iteration results\n",
      " k,    x1,    x2,    x3 \n",
      "1, -0.2000, 0.1556, -0.5079\n",
      "2, 0.1670, 0.3343, -0.4286\n",
      "3, 0.1909, 0.3335, -0.4217\n",
      "4, 0.1864, 0.3312, -0.4226\n",
      "5, 0.1861, 0.3312, -0.4227\n",
      "6, 0.1861, 0.3312, -0.4227\n",
      "7, 0.1861, 0.3312, -0.4227\n",
      "Converged!\n"
     ]
    }
   ],
   "source": [
    "## Gauss-Seidel Not Vectorized\n",
    "epsilon = 0.00001"
   ]
  },
  {
   "cell_type": "code",
   "execution_count": 20,
   "id": "d18f5b38",
   "metadata": {},
   "outputs": [
    {
     "name": "stdout",
     "output_type": "stream",
     "text": [
      "spectral radius : 0.26739980828320886\n",
      "Iteration results\n",
      " k,    x1,    x2,    x3 \n",
      "1, -0.2000, 0.2222, -0.4286\n",
      "2, 0.1460, 0.2032, -0.5175\n",
      "3, 0.1917, 0.3284, -0.4159\n",
      "4, 0.1809, 0.3323, -0.4207\n",
      "5, 0.1854, 0.3293, -0.4244\n",
      "6, 0.1863, 0.3312, -0.4226\n",
      "7, 0.1861, 0.3313, -0.4226\n",
      "8, 0.1861, 0.3312, -0.4227\n",
      "9, 0.1861, 0.3312, -0.4227\n",
      "10, 0.1861, 0.3312, -0.4227\n",
      "Converged!\n"
     ]
    }
   ],
   "source": [
    "## Jacobi Vectorized\n",
    "epsilon = 0.00001\n"
   ]
  },
  {
   "cell_type": "code",
   "execution_count": 137,
   "id": "67de4a03",
   "metadata": {},
   "outputs": [],
   "source": [
    "D = np.array([[5,0 ,0] , [0 ,9 ,0] , [0 , 0 , -7]]) # diagflat\n",
    "L = -1  * np.array([[0 ,0 ,0], [-3 , 0 , 0], [2 , -1 , 0]]) # trylower\n",
    "U =  -1 * np.array([[0 , -2 , 3], [0, 0, 1],[0 ,0 ,0]]) #tryupper\n",
    "B = np.array([[-1],[2],[3]])"
   ]
  },
  {
   "cell_type": "code",
   "execution_count": 138,
   "id": "c0b2da27",
   "metadata": {},
   "outputs": [],
   "source": [
    "DminusL = D - L"
   ]
  },
  {
   "cell_type": "code",
   "execution_count": 144,
   "id": "db24f487",
   "metadata": {},
   "outputs": [],
   "source": [
    "T_gauss = np.linalg.inv(DminusL) @ U\n",
    "C_g = np.linalg.inv(DminusL) @ B"
   ]
  },
  {
   "cell_type": "code",
   "execution_count": 164,
   "id": "ac180125",
   "metadata": {},
   "outputs": [],
   "source": [
    "K = []\n",
    "K.append(np.zeros((3 , 1)))\n",
    "for i in range(1,10+1):\n",
    "    K.append((T_gauss @ K[i-1]) + C_g)\n",
    "    if np.linalg.norm(K[i] - K[i-1]) < 0.0001:\n",
    "        break"
   ]
  },
  {
   "cell_type": "code",
   "execution_count": 165,
   "id": "aa46474b",
   "metadata": {},
   "outputs": [
    {
     "data": {
      "text/plain": [
       "[array([[0.],\n",
       "        [0.],\n",
       "        [0.]]),\n",
       " array([[-0.2       ],\n",
       "        [ 0.15555556],\n",
       "        [-0.50793651]]),\n",
       " array([[ 0.16698413],\n",
       "        [ 0.33432099],\n",
       "        [-0.42862182]]),\n",
       " array([[ 0.19090149],\n",
       "        [ 0.3334807 ],\n",
       "        [-0.42166825]]),\n",
       " array([[ 0.18639323],\n",
       "        [ 0.33120533],\n",
       "        [-0.42263127]]),\n",
       " array([[ 0.18606089],\n",
       "        [ 0.33120155],\n",
       "        [-0.42272568]]),\n",
       " array([[ 0.18611603],\n",
       "        [ 0.33123042],\n",
       "        [-0.42271405]])]"
      ]
     },
     "execution_count": 165,
     "metadata": {},
     "output_type": "execute_result"
    }
   ],
   "source": [
    "K"
   ]
  },
  {
   "cell_type": "code",
   "execution_count": 21,
   "id": "2974cf6d",
   "metadata": {
    "scrolled": true
   },
   "outputs": [
    {
     "name": "stdout",
     "output_type": "stream",
     "text": [
      "spectral radius : 0.11268723396380219\n",
      "Iteration results\n",
      " k,    x1,    x2,    x3 \n",
      "1, -0.2000, 0.1556, -0.5079\n",
      "2, 0.1670, 0.3343, -0.4286\n",
      "3, 0.1909, 0.3335, -0.4217\n",
      "4, 0.1864, 0.3312, -0.4226\n",
      "5, 0.1861, 0.3312, -0.4227\n",
      "6, 0.1861, 0.3312, -0.4227\n",
      "7, 0.1861, 0.3312, -0.4227\n",
      "Converged!\n"
     ]
    }
   ],
   "source": [
    "## Gauss-Seidel Vectorized\n",
    "epsilon = 0.00001\n"
   ]
  },
  {
   "cell_type": "markdown",
   "id": "358e7fe3",
   "metadata": {},
   "source": [
    "### Use np.linalg.solve() to solve the previous system and compare the results."
   ]
  },
  {
   "cell_type": "code",
   "execution_count": 149,
   "id": "83939925",
   "metadata": {},
   "outputs": [
    {
     "data": {
      "text/plain": [
       "array([[ 0.18611987],\n",
       "       [ 0.33123028],\n",
       "       [-0.42271293]])"
      ]
     },
     "execution_count": 149,
     "metadata": {},
     "output_type": "execute_result"
    }
   ],
   "source": [
    "np.linalg.solve(A , B)"
   ]
  },
  {
   "cell_type": "code",
   "execution_count": 102,
   "id": "52a53f5e",
   "metadata": {
    "scrolled": true
   },
   "outputs": [
    {
     "data": {
      "text/plain": [
       "array([[ 0.18611987],\n",
       "       [ 0.33123028],\n",
       "       [-0.42271293]])"
      ]
     },
     "execution_count": 102,
     "metadata": {},
     "output_type": "execute_result"
    }
   ],
   "source": []
  },
  {
   "cell_type": "markdown",
   "id": "9b8e273e",
   "metadata": {},
   "source": [
    "### Use scipy.linalg.lu() to slove the previous system using LU decomposition and compare the results."
   ]
  },
  {
   "cell_type": "code",
   "execution_count": 150,
   "id": "21549af2",
   "metadata": {},
   "outputs": [],
   "source": [
    "P = lu(A)[0]\n",
    "L = lu(A)[1]\n",
    "U = lu(A)[2]"
   ]
  },
  {
   "cell_type": "code",
   "execution_count": 151,
   "id": "df5e1b69",
   "metadata": {},
   "outputs": [
    {
     "data": {
      "text/plain": [
       "array([[ 1.        ,  0.        ,  0.        ],\n",
       "       [-0.6       ,  1.        ,  0.        ],\n",
       "       [ 0.4       , -0.02564103,  1.        ]])"
      ]
     },
     "execution_count": 151,
     "metadata": {},
     "output_type": "execute_result"
    }
   ],
   "source": [
    "L"
   ]
  },
  {
   "cell_type": "code",
   "execution_count": 152,
   "id": "b86186b7",
   "metadata": {},
   "outputs": [
    {
     "data": {
      "text/plain": [
       "array([[ 5.        , -2.        ,  3.        ],\n",
       "       [ 0.        ,  7.8       ,  2.8       ],\n",
       "       [ 0.        ,  0.        , -8.12820513]])"
      ]
     },
     "execution_count": 152,
     "metadata": {},
     "output_type": "execute_result"
    }
   ],
   "source": [
    "U"
   ]
  },
  {
   "cell_type": "code",
   "execution_count": 153,
   "id": "c3fd33b5",
   "metadata": {},
   "outputs": [
    {
     "data": {
      "text/plain": [
       "array([[1., 0., 0.],\n",
       "       [0., 1., 0.],\n",
       "       [0., 0., 1.]])"
      ]
     },
     "execution_count": 153,
     "metadata": {},
     "output_type": "execute_result"
    }
   ],
   "source": [
    "P"
   ]
  },
  {
   "cell_type": "code",
   "execution_count": 154,
   "id": "ff905575",
   "metadata": {},
   "outputs": [
    {
     "data": {
      "text/plain": [
       "array([[-1.        ],\n",
       "       [ 1.4       ],\n",
       "       [ 3.43589744]])"
      ]
     },
     "execution_count": 154,
     "metadata": {},
     "output_type": "execute_result"
    }
   ],
   "source": [
    "M = np.linalg.inv(L) @ B\n",
    "M"
   ]
  },
  {
   "cell_type": "code",
   "execution_count": 155,
   "id": "4726c912",
   "metadata": {},
   "outputs": [
    {
     "data": {
      "text/plain": [
       "array([[ 0.18611987],\n",
       "       [ 0.33123028],\n",
       "       [-0.42271293]])"
      ]
     },
     "execution_count": 155,
     "metadata": {},
     "output_type": "execute_result"
    }
   ],
   "source": [
    "X =  np.linalg.inv(U) @ M\n",
    "X"
   ]
  },
  {
   "cell_type": "code",
   "execution_count": null,
   "id": "a9ac30ef",
   "metadata": {},
   "outputs": [],
   "source": []
  },
  {
   "cell_type": "code",
   "execution_count": 105,
   "id": "2c4d5913",
   "metadata": {},
   "outputs": [
    {
     "data": {
      "text/plain": [
       "array([[1., 0., 0.],\n",
       "       [0., 1., 0.],\n",
       "       [0., 0., 1.]])"
      ]
     },
     "execution_count": 105,
     "metadata": {},
     "output_type": "execute_result"
    }
   ],
   "source": [
    "P"
   ]
  },
  {
   "cell_type": "code",
   "execution_count": 106,
   "id": "69e24fc0",
   "metadata": {},
   "outputs": [
    {
     "data": {
      "text/plain": [
       "array([[ 1.        ,  0.        ,  0.        ],\n",
       "       [-0.6       ,  1.        ,  0.        ],\n",
       "       [ 0.4       , -0.02564103,  1.        ]])"
      ]
     },
     "execution_count": 106,
     "metadata": {},
     "output_type": "execute_result"
    }
   ],
   "source": [
    "L"
   ]
  },
  {
   "cell_type": "code",
   "execution_count": 107,
   "id": "23647550",
   "metadata": {},
   "outputs": [
    {
     "data": {
      "text/plain": [
       "array([[ 5.        , -2.        ,  3.        ],\n",
       "       [ 0.        ,  7.8       ,  2.8       ],\n",
       "       [ 0.        ,  0.        , -8.12820513]])"
      ]
     },
     "execution_count": 107,
     "metadata": {},
     "output_type": "execute_result"
    }
   ],
   "source": [
    "U"
   ]
  },
  {
   "cell_type": "code",
   "execution_count": 110,
   "id": "0834ffed",
   "metadata": {},
   "outputs": [
    {
     "name": "stdout",
     "output_type": "stream",
     "text": [
      "A = [[ 5 -2  3]\n",
      " [-3  9  1]\n",
      " [ 2 -1 -7]]\n",
      "LU =  [[ 5. -2.  3.]\n",
      " [-3.  9.  1.]\n",
      " [ 2. -1. -7.]]\n",
      "M = [[-1.        ]\n",
      " [ 1.4       ]\n",
      " [ 3.43589744]]\n",
      "\n",
      "Solution: \n",
      "x = [[ 0.1861206 ]\n",
      " [ 0.33123065]\n",
      " [-0.42271278]]\n"
     ]
    }
   ],
   "source": []
  },
  {
   "cell_type": "code",
   "execution_count": null,
   "id": "0508256c",
   "metadata": {},
   "outputs": [],
   "source": []
  }
 ],
 "metadata": {
  "kernelspec": {
   "display_name": "Python 3 (ipykernel)",
   "language": "python",
   "name": "python3"
  },
  "language_info": {
   "codemirror_mode": {
    "name": "ipython",
    "version": 3
   },
   "file_extension": ".py",
   "mimetype": "text/x-python",
   "name": "python",
   "nbconvert_exporter": "python",
   "pygments_lexer": "ipython3",
   "version": "3.9.7"
  }
 },
 "nbformat": 4,
 "nbformat_minor": 5
}
